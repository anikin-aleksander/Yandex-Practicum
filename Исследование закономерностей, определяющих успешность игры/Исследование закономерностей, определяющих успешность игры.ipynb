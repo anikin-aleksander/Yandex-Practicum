{
 "cells": [
  {
   "cell_type": "markdown",
   "id": "f765a8ff",
   "metadata": {},
   "source": [
    "# Исследование закономерностей, определяющих успешность игры"
   ]
  },
  {
   "cell_type": "markdown",
   "id": "d0be683b",
   "metadata": {},
   "source": [
    "## Изучение данных и общей информации"
   ]
  },
  {
   "cell_type": "code",
   "execution_count": 1,
   "id": "4285433e",
   "metadata": {},
   "outputs": [],
   "source": [
    "import numpy as np\n",
    "import pandas as pd\n",
    "import seaborn\n",
    "import matplotlib.pyplot as plt\n",
    "import seaborn as sns\n",
    "from scipy import stats as st"
   ]
  },
  {
   "cell_type": "code",
   "execution_count": 2,
   "id": "927c9a81",
   "metadata": {},
   "outputs": [],
   "source": [
    "data = pd.read_csv('/datasets/games.csv')"
   ]
  },
  {
   "cell_type": "code",
   "execution_count": 3,
   "id": "cae0e5d2",
   "metadata": {},
   "outputs": [
    {
     "data": {
      "text/html": [
       "<div>\n",
       "<style scoped>\n",
       "    .dataframe tbody tr th:only-of-type {\n",
       "        vertical-align: middle;\n",
       "    }\n",
       "\n",
       "    .dataframe tbody tr th {\n",
       "        vertical-align: top;\n",
       "    }\n",
       "\n",
       "    .dataframe thead th {\n",
       "        text-align: right;\n",
       "    }\n",
       "</style>\n",
       "<table border=\"1\" class=\"dataframe\">\n",
       "  <thead>\n",
       "    <tr style=\"text-align: right;\">\n",
       "      <th></th>\n",
       "      <th>Name</th>\n",
       "      <th>Platform</th>\n",
       "      <th>Year_of_Release</th>\n",
       "      <th>Genre</th>\n",
       "      <th>NA_sales</th>\n",
       "      <th>EU_sales</th>\n",
       "      <th>JP_sales</th>\n",
       "      <th>Other_sales</th>\n",
       "      <th>Critic_Score</th>\n",
       "      <th>User_Score</th>\n",
       "      <th>Rating</th>\n",
       "    </tr>\n",
       "  </thead>\n",
       "  <tbody>\n",
       "    <tr>\n",
       "      <th>0</th>\n",
       "      <td>Wii Sports</td>\n",
       "      <td>Wii</td>\n",
       "      <td>2006.0</td>\n",
       "      <td>Sports</td>\n",
       "      <td>41.36</td>\n",
       "      <td>28.96</td>\n",
       "      <td>3.77</td>\n",
       "      <td>8.45</td>\n",
       "      <td>76.0</td>\n",
       "      <td>8</td>\n",
       "      <td>E</td>\n",
       "    </tr>\n",
       "    <tr>\n",
       "      <th>1</th>\n",
       "      <td>Super Mario Bros.</td>\n",
       "      <td>NES</td>\n",
       "      <td>1985.0</td>\n",
       "      <td>Platform</td>\n",
       "      <td>29.08</td>\n",
       "      <td>3.58</td>\n",
       "      <td>6.81</td>\n",
       "      <td>0.77</td>\n",
       "      <td>NaN</td>\n",
       "      <td>NaN</td>\n",
       "      <td>NaN</td>\n",
       "    </tr>\n",
       "    <tr>\n",
       "      <th>2</th>\n",
       "      <td>Mario Kart Wii</td>\n",
       "      <td>Wii</td>\n",
       "      <td>2008.0</td>\n",
       "      <td>Racing</td>\n",
       "      <td>15.68</td>\n",
       "      <td>12.76</td>\n",
       "      <td>3.79</td>\n",
       "      <td>3.29</td>\n",
       "      <td>82.0</td>\n",
       "      <td>8.3</td>\n",
       "      <td>E</td>\n",
       "    </tr>\n",
       "    <tr>\n",
       "      <th>3</th>\n",
       "      <td>Wii Sports Resort</td>\n",
       "      <td>Wii</td>\n",
       "      <td>2009.0</td>\n",
       "      <td>Sports</td>\n",
       "      <td>15.61</td>\n",
       "      <td>10.93</td>\n",
       "      <td>3.28</td>\n",
       "      <td>2.95</td>\n",
       "      <td>80.0</td>\n",
       "      <td>8</td>\n",
       "      <td>E</td>\n",
       "    </tr>\n",
       "    <tr>\n",
       "      <th>4</th>\n",
       "      <td>Pokemon Red/Pokemon Blue</td>\n",
       "      <td>GB</td>\n",
       "      <td>1996.0</td>\n",
       "      <td>Role-Playing</td>\n",
       "      <td>11.27</td>\n",
       "      <td>8.89</td>\n",
       "      <td>10.22</td>\n",
       "      <td>1.00</td>\n",
       "      <td>NaN</td>\n",
       "      <td>NaN</td>\n",
       "      <td>NaN</td>\n",
       "    </tr>\n",
       "  </tbody>\n",
       "</table>\n",
       "</div>"
      ],
      "text/plain": [
       "                       Name Platform  Year_of_Release         Genre  NA_sales  \\\n",
       "0                Wii Sports      Wii           2006.0        Sports     41.36   \n",
       "1         Super Mario Bros.      NES           1985.0      Platform     29.08   \n",
       "2            Mario Kart Wii      Wii           2008.0        Racing     15.68   \n",
       "3         Wii Sports Resort      Wii           2009.0        Sports     15.61   \n",
       "4  Pokemon Red/Pokemon Blue       GB           1996.0  Role-Playing     11.27   \n",
       "\n",
       "   EU_sales  JP_sales  Other_sales  Critic_Score User_Score Rating  \n",
       "0     28.96      3.77         8.45          76.0          8      E  \n",
       "1      3.58      6.81         0.77           NaN        NaN    NaN  \n",
       "2     12.76      3.79         3.29          82.0        8.3      E  \n",
       "3     10.93      3.28         2.95          80.0          8      E  \n",
       "4      8.89     10.22         1.00           NaN        NaN    NaN  "
      ]
     },
     "metadata": {},
     "output_type": "display_data"
    }
   ],
   "source": [
    "display(data.head()) # Выведем первые 5 строк "
   ]
  },
  {
   "cell_type": "code",
   "execution_count": 4,
   "id": "8b28066f",
   "metadata": {},
   "outputs": [
    {
     "name": "stdout",
     "output_type": "stream",
     "text": [
      "<class 'pandas.core.frame.DataFrame'>\n",
      "RangeIndex: 16715 entries, 0 to 16714\n",
      "Data columns (total 11 columns):\n",
      " #   Column           Non-Null Count  Dtype  \n",
      "---  ------           --------------  -----  \n",
      " 0   Name             16713 non-null  object \n",
      " 1   Platform         16715 non-null  object \n",
      " 2   Year_of_Release  16446 non-null  float64\n",
      " 3   Genre            16713 non-null  object \n",
      " 4   NA_sales         16715 non-null  float64\n",
      " 5   EU_sales         16715 non-null  float64\n",
      " 6   JP_sales         16715 non-null  float64\n",
      " 7   Other_sales      16715 non-null  float64\n",
      " 8   Critic_Score     8137 non-null   float64\n",
      " 9   User_Score       10014 non-null  object \n",
      " 10  Rating           9949 non-null   object \n",
      "dtypes: float64(6), object(5)\n",
      "memory usage: 1.4+ MB\n"
     ]
    }
   ],
   "source": [
    "data.info() # Выводим общую информацию"
   ]
  },
  {
   "cell_type": "code",
   "execution_count": 5,
   "id": "7d5919f5",
   "metadata": {},
   "outputs": [
    {
     "name": "stdout",
     "output_type": "stream",
     "text": [
      "Name                  2\n",
      "Platform              0\n",
      "Year_of_Release     269\n",
      "Genre                 2\n",
      "NA_sales              0\n",
      "EU_sales              0\n",
      "JP_sales              0\n",
      "Other_sales           0\n",
      "Critic_Score       8578\n",
      "User_Score         6701\n",
      "Rating             6766\n",
      "dtype: int64\n"
     ]
    }
   ],
   "source": [
    "print(data.isna().sum()) # Смотрим количество пропусков"
   ]
  },
  {
   "cell_type": "code",
   "execution_count": 6,
   "id": "812777da",
   "metadata": {},
   "outputs": [
    {
     "data": {
      "text/plain": [
       "(16715, 11)"
      ]
     },
     "execution_count": 6,
     "metadata": {},
     "output_type": "execute_result"
    }
   ],
   "source": [
    "data.shape # Выведем размер "
   ]
  },
  {
   "cell_type": "code",
   "execution_count": 7,
   "id": "b7940823",
   "metadata": {},
   "outputs": [
    {
     "data": {
      "text/html": [
       "<div>\n",
       "<style scoped>\n",
       "    .dataframe tbody tr th:only-of-type {\n",
       "        vertical-align: middle;\n",
       "    }\n",
       "\n",
       "    .dataframe tbody tr th {\n",
       "        vertical-align: top;\n",
       "    }\n",
       "\n",
       "    .dataframe thead th {\n",
       "        text-align: right;\n",
       "    }\n",
       "</style>\n",
       "<table border=\"1\" class=\"dataframe\">\n",
       "  <thead>\n",
       "    <tr style=\"text-align: right;\">\n",
       "      <th></th>\n",
       "      <th>Year_of_Release</th>\n",
       "      <th>NA_sales</th>\n",
       "      <th>EU_sales</th>\n",
       "      <th>JP_sales</th>\n",
       "      <th>Other_sales</th>\n",
       "      <th>Critic_Score</th>\n",
       "    </tr>\n",
       "  </thead>\n",
       "  <tbody>\n",
       "    <tr>\n",
       "      <th>count</th>\n",
       "      <td>16446.000000</td>\n",
       "      <td>16715.000000</td>\n",
       "      <td>16715.000000</td>\n",
       "      <td>16715.000000</td>\n",
       "      <td>16715.000000</td>\n",
       "      <td>8137.000000</td>\n",
       "    </tr>\n",
       "    <tr>\n",
       "      <th>mean</th>\n",
       "      <td>2006.484616</td>\n",
       "      <td>0.263377</td>\n",
       "      <td>0.145060</td>\n",
       "      <td>0.077617</td>\n",
       "      <td>0.047342</td>\n",
       "      <td>68.967679</td>\n",
       "    </tr>\n",
       "    <tr>\n",
       "      <th>std</th>\n",
       "      <td>5.877050</td>\n",
       "      <td>0.813604</td>\n",
       "      <td>0.503339</td>\n",
       "      <td>0.308853</td>\n",
       "      <td>0.186731</td>\n",
       "      <td>13.938165</td>\n",
       "    </tr>\n",
       "    <tr>\n",
       "      <th>min</th>\n",
       "      <td>1980.000000</td>\n",
       "      <td>0.000000</td>\n",
       "      <td>0.000000</td>\n",
       "      <td>0.000000</td>\n",
       "      <td>0.000000</td>\n",
       "      <td>13.000000</td>\n",
       "    </tr>\n",
       "    <tr>\n",
       "      <th>25%</th>\n",
       "      <td>2003.000000</td>\n",
       "      <td>0.000000</td>\n",
       "      <td>0.000000</td>\n",
       "      <td>0.000000</td>\n",
       "      <td>0.000000</td>\n",
       "      <td>60.000000</td>\n",
       "    </tr>\n",
       "    <tr>\n",
       "      <th>50%</th>\n",
       "      <td>2007.000000</td>\n",
       "      <td>0.080000</td>\n",
       "      <td>0.020000</td>\n",
       "      <td>0.000000</td>\n",
       "      <td>0.010000</td>\n",
       "      <td>71.000000</td>\n",
       "    </tr>\n",
       "    <tr>\n",
       "      <th>75%</th>\n",
       "      <td>2010.000000</td>\n",
       "      <td>0.240000</td>\n",
       "      <td>0.110000</td>\n",
       "      <td>0.040000</td>\n",
       "      <td>0.030000</td>\n",
       "      <td>79.000000</td>\n",
       "    </tr>\n",
       "    <tr>\n",
       "      <th>max</th>\n",
       "      <td>2016.000000</td>\n",
       "      <td>41.360000</td>\n",
       "      <td>28.960000</td>\n",
       "      <td>10.220000</td>\n",
       "      <td>10.570000</td>\n",
       "      <td>98.000000</td>\n",
       "    </tr>\n",
       "  </tbody>\n",
       "</table>\n",
       "</div>"
      ],
      "text/plain": [
       "       Year_of_Release      NA_sales      EU_sales      JP_sales  \\\n",
       "count     16446.000000  16715.000000  16715.000000  16715.000000   \n",
       "mean       2006.484616      0.263377      0.145060      0.077617   \n",
       "std           5.877050      0.813604      0.503339      0.308853   \n",
       "min        1980.000000      0.000000      0.000000      0.000000   \n",
       "25%        2003.000000      0.000000      0.000000      0.000000   \n",
       "50%        2007.000000      0.080000      0.020000      0.000000   \n",
       "75%        2010.000000      0.240000      0.110000      0.040000   \n",
       "max        2016.000000     41.360000     28.960000     10.220000   \n",
       "\n",
       "        Other_sales  Critic_Score  \n",
       "count  16715.000000   8137.000000  \n",
       "mean       0.047342     68.967679  \n",
       "std        0.186731     13.938165  \n",
       "min        0.000000     13.000000  \n",
       "25%        0.000000     60.000000  \n",
       "50%        0.010000     71.000000  \n",
       "75%        0.030000     79.000000  \n",
       "max       10.570000     98.000000  "
      ]
     },
     "execution_count": 7,
     "metadata": {},
     "output_type": "execute_result"
    }
   ],
   "source": [
    "data.describe() # Выведем статистические данные, которые дают представление о распределении значений"
   ]
  },
  {
   "cell_type": "markdown",
   "id": "aba229f4",
   "metadata": {},
   "source": [
    "<div style=\"border:solid blue 2px; padding: 20px\">\n",
    "ВЫВОД: в полученном датасете 11 столбцов по 16715 значений имеются пропуски в полседних трех столбацх с рейтингом и в стольце с годами, наименование колонок не приведены к нижнему регистру, типы данных в годах и оценках пользователей логически не верны"
   ]
  },
  {
   "cell_type": "markdown",
   "id": "2a79b025",
   "metadata": {},
   "source": [
    "## Подготовка данных"
   ]
  },
  {
   "cell_type": "markdown",
   "id": "b9b3ed13",
   "metadata": {},
   "source": [
    "### Заменим названия столбцов"
   ]
  },
  {
   "cell_type": "code",
   "execution_count": 8,
   "id": "397af79c",
   "metadata": {},
   "outputs": [
    {
     "data": {
      "text/plain": [
       "['Name',\n",
       " 'Platform',\n",
       " 'Year_of_Release',\n",
       " 'Genre',\n",
       " 'NA_sales',\n",
       " 'EU_sales',\n",
       " 'JP_sales',\n",
       " 'Other_sales',\n",
       " 'Critic_Score',\n",
       " 'User_Score',\n",
       " 'Rating']"
      ]
     },
     "execution_count": 8,
     "metadata": {},
     "output_type": "execute_result"
    }
   ],
   "source": [
    "list(data.columns) # Посмотрим названия колонок"
   ]
  },
  {
   "cell_type": "code",
   "execution_count": 9,
   "id": "e3733e7c",
   "metadata": {},
   "outputs": [],
   "source": [
    "for i in data: # Приведем все к нижнему регистру\n",
    "    \n",
    "    data = data.rename(columns={i : i.lower()})"
   ]
  },
  {
   "cell_type": "code",
   "execution_count": 10,
   "id": "efcd5c28",
   "metadata": {},
   "outputs": [
    {
     "data": {
      "text/html": [
       "<div>\n",
       "<style scoped>\n",
       "    .dataframe tbody tr th:only-of-type {\n",
       "        vertical-align: middle;\n",
       "    }\n",
       "\n",
       "    .dataframe tbody tr th {\n",
       "        vertical-align: top;\n",
       "    }\n",
       "\n",
       "    .dataframe thead th {\n",
       "        text-align: right;\n",
       "    }\n",
       "</style>\n",
       "<table border=\"1\" class=\"dataframe\">\n",
       "  <thead>\n",
       "    <tr style=\"text-align: right;\">\n",
       "      <th></th>\n",
       "      <th>name</th>\n",
       "      <th>platform</th>\n",
       "      <th>year_of_release</th>\n",
       "      <th>genre</th>\n",
       "      <th>na_sales</th>\n",
       "      <th>eu_sales</th>\n",
       "      <th>jp_sales</th>\n",
       "      <th>other_sales</th>\n",
       "      <th>critic_score</th>\n",
       "      <th>user_score</th>\n",
       "      <th>rating</th>\n",
       "    </tr>\n",
       "  </thead>\n",
       "  <tbody>\n",
       "    <tr>\n",
       "      <th>0</th>\n",
       "      <td>Wii Sports</td>\n",
       "      <td>Wii</td>\n",
       "      <td>2006.0</td>\n",
       "      <td>Sports</td>\n",
       "      <td>41.36</td>\n",
       "      <td>28.96</td>\n",
       "      <td>3.77</td>\n",
       "      <td>8.45</td>\n",
       "      <td>76.0</td>\n",
       "      <td>8</td>\n",
       "      <td>E</td>\n",
       "    </tr>\n",
       "    <tr>\n",
       "      <th>1</th>\n",
       "      <td>Super Mario Bros.</td>\n",
       "      <td>NES</td>\n",
       "      <td>1985.0</td>\n",
       "      <td>Platform</td>\n",
       "      <td>29.08</td>\n",
       "      <td>3.58</td>\n",
       "      <td>6.81</td>\n",
       "      <td>0.77</td>\n",
       "      <td>NaN</td>\n",
       "      <td>NaN</td>\n",
       "      <td>NaN</td>\n",
       "    </tr>\n",
       "    <tr>\n",
       "      <th>2</th>\n",
       "      <td>Mario Kart Wii</td>\n",
       "      <td>Wii</td>\n",
       "      <td>2008.0</td>\n",
       "      <td>Racing</td>\n",
       "      <td>15.68</td>\n",
       "      <td>12.76</td>\n",
       "      <td>3.79</td>\n",
       "      <td>3.29</td>\n",
       "      <td>82.0</td>\n",
       "      <td>8.3</td>\n",
       "      <td>E</td>\n",
       "    </tr>\n",
       "    <tr>\n",
       "      <th>3</th>\n",
       "      <td>Wii Sports Resort</td>\n",
       "      <td>Wii</td>\n",
       "      <td>2009.0</td>\n",
       "      <td>Sports</td>\n",
       "      <td>15.61</td>\n",
       "      <td>10.93</td>\n",
       "      <td>3.28</td>\n",
       "      <td>2.95</td>\n",
       "      <td>80.0</td>\n",
       "      <td>8</td>\n",
       "      <td>E</td>\n",
       "    </tr>\n",
       "    <tr>\n",
       "      <th>4</th>\n",
       "      <td>Pokemon Red/Pokemon Blue</td>\n",
       "      <td>GB</td>\n",
       "      <td>1996.0</td>\n",
       "      <td>Role-Playing</td>\n",
       "      <td>11.27</td>\n",
       "      <td>8.89</td>\n",
       "      <td>10.22</td>\n",
       "      <td>1.00</td>\n",
       "      <td>NaN</td>\n",
       "      <td>NaN</td>\n",
       "      <td>NaN</td>\n",
       "    </tr>\n",
       "  </tbody>\n",
       "</table>\n",
       "</div>"
      ],
      "text/plain": [
       "                       name platform  year_of_release         genre  na_sales  \\\n",
       "0                Wii Sports      Wii           2006.0        Sports     41.36   \n",
       "1         Super Mario Bros.      NES           1985.0      Platform     29.08   \n",
       "2            Mario Kart Wii      Wii           2008.0        Racing     15.68   \n",
       "3         Wii Sports Resort      Wii           2009.0        Sports     15.61   \n",
       "4  Pokemon Red/Pokemon Blue       GB           1996.0  Role-Playing     11.27   \n",
       "\n",
       "   eu_sales  jp_sales  other_sales  critic_score user_score rating  \n",
       "0     28.96      3.77         8.45          76.0          8      E  \n",
       "1      3.58      6.81         0.77           NaN        NaN    NaN  \n",
       "2     12.76      3.79         3.29          82.0        8.3      E  \n",
       "3     10.93      3.28         2.95          80.0          8      E  \n",
       "4      8.89     10.22         1.00           NaN        NaN    NaN  "
      ]
     },
     "execution_count": 10,
     "metadata": {},
     "output_type": "execute_result"
    }
   ],
   "source": [
    "data.head() # Проверим"
   ]
  },
  {
   "cell_type": "markdown",
   "id": "9f020079",
   "metadata": {},
   "source": [
    "### Преобразуем данные в нужные типы и обработаем пропуски"
   ]
  },
  {
   "cell_type": "markdown",
   "id": "0223e1ee",
   "metadata": {},
   "source": [
    "**Год выпуск должен быть целым числом, пропуски удалим**"
   ]
  },
  {
   "cell_type": "code",
   "execution_count": 11,
   "id": "693c8f9b",
   "metadata": {},
   "outputs": [],
   "source": [
    "data['year_of_release'] = data['year_of_release'].fillna(0) # Заменим пропуски нулями "
   ]
  },
  {
   "cell_type": "code",
   "execution_count": 12,
   "id": "f0b0a5fa",
   "metadata": {},
   "outputs": [],
   "source": [
    "data['year_of_release'] = data['year_of_release'].astype(int) # Поменяем тип данных на целые числа"
   ]
  },
  {
   "cell_type": "code",
   "execution_count": 13,
   "id": "20f6a276",
   "metadata": {},
   "outputs": [
    {
     "data": {
      "text/plain": [
       "array([2006, 1985, 2008, 2009, 1996, 1989, 1984, 2005, 1999, 2007, 2010,\n",
       "       2013, 2004, 1990, 1988, 2002, 2001, 2011, 1998, 2015, 2012, 2014,\n",
       "       1992, 1997, 1993, 1994, 1982, 2016, 2003, 1986, 2000,    0, 1995,\n",
       "       1991, 1981, 1987, 1980, 1983])"
      ]
     },
     "execution_count": 13,
     "metadata": {},
     "output_type": "execute_result"
    }
   ],
   "source": [
    "data['year_of_release'].unique() # Проверим"
   ]
  },
  {
   "cell_type": "markdown",
   "id": "f09d9efb",
   "metadata": {},
   "source": [
    "**Оценка пользователей приведем к значения флоат и заменим tbd на nan**"
   ]
  },
  {
   "cell_type": "code",
   "execution_count": 14,
   "id": "662cd03d",
   "metadata": {},
   "outputs": [
    {
     "data": {
      "text/plain": [
       "array(['8', nan, '8.3', '8.5', '6.6', '8.4', '8.6', '7.7', '6.3', '7.4',\n",
       "       '8.2', '9', '7.9', '8.1', '8.7', '7.1', '3.4', '5.3', '4.8', '3.2',\n",
       "       '8.9', '6.4', '7.8', '7.5', '2.6', '7.2', '9.2', '7', '7.3', '4.3',\n",
       "       '7.6', '5.7', '5', '9.1', '6.5', 'tbd', '8.8', '6.9', '9.4', '6.8',\n",
       "       '6.1', '6.7', '5.4', '4', '4.9', '4.5', '9.3', '6.2', '4.2', '6',\n",
       "       '3.7', '4.1', '5.8', '5.6', '5.5', '4.4', '4.6', '5.9', '3.9',\n",
       "       '3.1', '2.9', '5.2', '3.3', '4.7', '5.1', '3.5', '2.5', '1.9', '3',\n",
       "       '2.7', '2.2', '2', '9.5', '2.1', '3.6', '2.8', '1.8', '3.8', '0',\n",
       "       '1.6', '9.6', '2.4', '1.7', '1.1', '0.3', '1.5', '0.7', '1.2',\n",
       "       '2.3', '0.5', '1.3', '0.2', '0.6', '1.4', '0.9', '1', '9.7'],\n",
       "      dtype=object)"
      ]
     },
     "execution_count": 14,
     "metadata": {},
     "output_type": "execute_result"
    }
   ],
   "source": [
    "data['user_score'].unique() # Посмотрим уникальные значения"
   ]
  },
  {
   "cell_type": "code",
   "execution_count": 15,
   "id": "505d1b82",
   "metadata": {},
   "outputs": [],
   "source": [
    "data['user_score'].replace('tbd', 'nan', inplace=True) # Заменим tbd на nan"
   ]
  },
  {
   "cell_type": "code",
   "execution_count": 16,
   "id": "ef9c2cc6",
   "metadata": {},
   "outputs": [],
   "source": [
    "data['user_score'] = data['user_score'].astype(\"float\") #.reset_index() # Поменяем тип данных"
   ]
  },
  {
   "cell_type": "code",
   "execution_count": 17,
   "id": "5412c9fb",
   "metadata": {},
   "outputs": [
    {
     "data": {
      "text/plain": [
       "array([8. , nan, 8.3, 8.5, 6.6, 8.4, 8.6, 7.7, 6.3, 7.4, 8.2, 9. , 7.9,\n",
       "       8.1, 8.7, 7.1, 3.4, 5.3, 4.8, 3.2, 8.9, 6.4, 7.8, 7.5, 2.6, 7.2,\n",
       "       9.2, 7. , 7.3, 4.3, 7.6, 5.7, 5. , 9.1, 6.5, 8.8, 6.9, 9.4, 6.8,\n",
       "       6.1, 6.7, 5.4, 4. , 4.9, 4.5, 9.3, 6.2, 4.2, 6. , 3.7, 4.1, 5.8,\n",
       "       5.6, 5.5, 4.4, 4.6, 5.9, 3.9, 3.1, 2.9, 5.2, 3.3, 4.7, 5.1, 3.5,\n",
       "       2.5, 1.9, 3. , 2.7, 2.2, 2. , 9.5, 2.1, 3.6, 2.8, 1.8, 3.8, 0. ,\n",
       "       1.6, 9.6, 2.4, 1.7, 1.1, 0.3, 1.5, 0.7, 1.2, 2.3, 0.5, 1.3, 0.2,\n",
       "       0.6, 1.4, 0.9, 1. , 9.7])"
      ]
     },
     "execution_count": 17,
     "metadata": {},
     "output_type": "execute_result"
    }
   ],
   "source": [
    "data['user_score'].unique() # Проверим"
   ]
  },
  {
   "cell_type": "markdown",
   "id": "4ec4665c",
   "metadata": {},
   "source": [
    "**Удалим 2 значения пропущенных в наименованиях**"
   ]
  },
  {
   "cell_type": "code",
   "execution_count": 18,
   "id": "590c3252",
   "metadata": {},
   "outputs": [
    {
     "data": {
      "text/html": [
       "<div>\n",
       "<style scoped>\n",
       "    .dataframe tbody tr th:only-of-type {\n",
       "        vertical-align: middle;\n",
       "    }\n",
       "\n",
       "    .dataframe tbody tr th {\n",
       "        vertical-align: top;\n",
       "    }\n",
       "\n",
       "    .dataframe thead th {\n",
       "        text-align: right;\n",
       "    }\n",
       "</style>\n",
       "<table border=\"1\" class=\"dataframe\">\n",
       "  <thead>\n",
       "    <tr style=\"text-align: right;\">\n",
       "      <th></th>\n",
       "      <th>name</th>\n",
       "      <th>platform</th>\n",
       "      <th>year_of_release</th>\n",
       "      <th>genre</th>\n",
       "      <th>na_sales</th>\n",
       "      <th>eu_sales</th>\n",
       "      <th>jp_sales</th>\n",
       "      <th>other_sales</th>\n",
       "      <th>critic_score</th>\n",
       "      <th>user_score</th>\n",
       "      <th>rating</th>\n",
       "    </tr>\n",
       "  </thead>\n",
       "  <tbody>\n",
       "    <tr>\n",
       "      <th>659</th>\n",
       "      <td>NaN</td>\n",
       "      <td>GEN</td>\n",
       "      <td>1993</td>\n",
       "      <td>NaN</td>\n",
       "      <td>1.78</td>\n",
       "      <td>0.53</td>\n",
       "      <td>0.00</td>\n",
       "      <td>0.08</td>\n",
       "      <td>NaN</td>\n",
       "      <td>NaN</td>\n",
       "      <td>NaN</td>\n",
       "    </tr>\n",
       "    <tr>\n",
       "      <th>14244</th>\n",
       "      <td>NaN</td>\n",
       "      <td>GEN</td>\n",
       "      <td>1993</td>\n",
       "      <td>NaN</td>\n",
       "      <td>0.00</td>\n",
       "      <td>0.00</td>\n",
       "      <td>0.03</td>\n",
       "      <td>0.00</td>\n",
       "      <td>NaN</td>\n",
       "      <td>NaN</td>\n",
       "      <td>NaN</td>\n",
       "    </tr>\n",
       "  </tbody>\n",
       "</table>\n",
       "</div>"
      ],
      "text/plain": [
       "      name platform  year_of_release genre  na_sales  eu_sales  jp_sales  \\\n",
       "659    NaN      GEN             1993   NaN      1.78      0.53      0.00   \n",
       "14244  NaN      GEN             1993   NaN      0.00      0.00      0.03   \n",
       "\n",
       "       other_sales  critic_score  user_score rating  \n",
       "659           0.08           NaN         NaN    NaN  \n",
       "14244         0.00           NaN         NaN    NaN  "
      ]
     },
     "execution_count": 18,
     "metadata": {},
     "output_type": "execute_result"
    }
   ],
   "source": [
    "data[data['name'].isnull()] # Не повлияет на общую картину и упростит дальнейшую обработку"
   ]
  },
  {
   "cell_type": "code",
   "execution_count": 19,
   "id": "b2d328af",
   "metadata": {},
   "outputs": [],
   "source": [
    "data = data.dropna(subset = ['name']).reset_index() # Удаляем"
   ]
  },
  {
   "cell_type": "markdown",
   "id": "fcf2c7e4",
   "metadata": {},
   "source": [
    "**Посмотрим уникальные значения колонок с неполными данными**"
   ]
  },
  {
   "cell_type": "code",
   "execution_count": 20,
   "id": "68917edc",
   "metadata": {},
   "outputs": [
    {
     "data": {
      "text/plain": [
       "array(['E', nan, 'M', 'T', 'E10+', 'K-A', 'AO', 'EC', 'RP'], dtype=object)"
      ]
     },
     "execution_count": 20,
     "metadata": {},
     "output_type": "execute_result"
    }
   ],
   "source": [
    "data['rating'].unique()"
   ]
  },
  {
   "cell_type": "code",
   "execution_count": 21,
   "id": "7947668e",
   "metadata": {},
   "outputs": [
    {
     "data": {
      "text/plain": [
       "array([76., nan, 82., 80., 89., 58., 87., 91., 61., 97., 95., 77., 88.,\n",
       "       83., 94., 93., 85., 86., 98., 96., 90., 84., 73., 74., 78., 92.,\n",
       "       71., 72., 68., 62., 49., 67., 81., 66., 56., 79., 70., 59., 64.,\n",
       "       75., 60., 63., 69., 50., 25., 42., 44., 55., 48., 57., 29., 47.,\n",
       "       65., 54., 20., 53., 37., 38., 33., 52., 30., 32., 43., 45., 51.,\n",
       "       40., 46., 39., 34., 35., 41., 36., 28., 31., 27., 26., 19., 23.,\n",
       "       24., 21., 17., 22., 13.])"
      ]
     },
     "execution_count": 21,
     "metadata": {},
     "output_type": "execute_result"
    }
   ],
   "source": [
    "data['critic_score'].unique()"
   ]
  },
  {
   "cell_type": "markdown",
   "id": "82abe80c",
   "metadata": {},
   "source": [
    "*Данные в этих столбцах мы оставим как есть, что бы не менять общюю картину данных, так как удаление приведет к недопустиому сокращению исследовательских данных, замену на медианное ззначение тут не и меет логического смысла*"
   ]
  },
  {
   "cell_type": "markdown",
   "id": "4f319db8",
   "metadata": {},
   "source": [
    "### Посчитаем суммарные продажи во всех регионах и создадим для них отдельный столбец"
   ]
  },
  {
   "cell_type": "code",
   "execution_count": 22,
   "id": "959e152e",
   "metadata": {},
   "outputs": [],
   "source": [
    "data['all_sales'] = data['na_sales'] + data['eu_sales'] + data['jp_sales'] + data['other_sales'] # Складываем\n"
   ]
  },
  {
   "cell_type": "code",
   "execution_count": 23,
   "id": "74244542",
   "metadata": {},
   "outputs": [
    {
     "data": {
      "text/html": [
       "<div>\n",
       "<style scoped>\n",
       "    .dataframe tbody tr th:only-of-type {\n",
       "        vertical-align: middle;\n",
       "    }\n",
       "\n",
       "    .dataframe tbody tr th {\n",
       "        vertical-align: top;\n",
       "    }\n",
       "\n",
       "    .dataframe thead th {\n",
       "        text-align: right;\n",
       "    }\n",
       "</style>\n",
       "<table border=\"1\" class=\"dataframe\">\n",
       "  <thead>\n",
       "    <tr style=\"text-align: right;\">\n",
       "      <th></th>\n",
       "      <th>index</th>\n",
       "      <th>name</th>\n",
       "      <th>platform</th>\n",
       "      <th>year_of_release</th>\n",
       "      <th>genre</th>\n",
       "      <th>na_sales</th>\n",
       "      <th>eu_sales</th>\n",
       "      <th>jp_sales</th>\n",
       "      <th>other_sales</th>\n",
       "      <th>critic_score</th>\n",
       "      <th>user_score</th>\n",
       "      <th>rating</th>\n",
       "      <th>all_sales</th>\n",
       "    </tr>\n",
       "  </thead>\n",
       "  <tbody>\n",
       "    <tr>\n",
       "      <th>0</th>\n",
       "      <td>0</td>\n",
       "      <td>Wii Sports</td>\n",
       "      <td>Wii</td>\n",
       "      <td>2006</td>\n",
       "      <td>Sports</td>\n",
       "      <td>41.36</td>\n",
       "      <td>28.96</td>\n",
       "      <td>3.77</td>\n",
       "      <td>8.45</td>\n",
       "      <td>76.0</td>\n",
       "      <td>8.0</td>\n",
       "      <td>E</td>\n",
       "      <td>82.54</td>\n",
       "    </tr>\n",
       "    <tr>\n",
       "      <th>1</th>\n",
       "      <td>1</td>\n",
       "      <td>Super Mario Bros.</td>\n",
       "      <td>NES</td>\n",
       "      <td>1985</td>\n",
       "      <td>Platform</td>\n",
       "      <td>29.08</td>\n",
       "      <td>3.58</td>\n",
       "      <td>6.81</td>\n",
       "      <td>0.77</td>\n",
       "      <td>NaN</td>\n",
       "      <td>NaN</td>\n",
       "      <td>NaN</td>\n",
       "      <td>40.24</td>\n",
       "    </tr>\n",
       "    <tr>\n",
       "      <th>2</th>\n",
       "      <td>2</td>\n",
       "      <td>Mario Kart Wii</td>\n",
       "      <td>Wii</td>\n",
       "      <td>2008</td>\n",
       "      <td>Racing</td>\n",
       "      <td>15.68</td>\n",
       "      <td>12.76</td>\n",
       "      <td>3.79</td>\n",
       "      <td>3.29</td>\n",
       "      <td>82.0</td>\n",
       "      <td>8.3</td>\n",
       "      <td>E</td>\n",
       "      <td>35.52</td>\n",
       "    </tr>\n",
       "    <tr>\n",
       "      <th>3</th>\n",
       "      <td>3</td>\n",
       "      <td>Wii Sports Resort</td>\n",
       "      <td>Wii</td>\n",
       "      <td>2009</td>\n",
       "      <td>Sports</td>\n",
       "      <td>15.61</td>\n",
       "      <td>10.93</td>\n",
       "      <td>3.28</td>\n",
       "      <td>2.95</td>\n",
       "      <td>80.0</td>\n",
       "      <td>8.0</td>\n",
       "      <td>E</td>\n",
       "      <td>32.77</td>\n",
       "    </tr>\n",
       "    <tr>\n",
       "      <th>4</th>\n",
       "      <td>4</td>\n",
       "      <td>Pokemon Red/Pokemon Blue</td>\n",
       "      <td>GB</td>\n",
       "      <td>1996</td>\n",
       "      <td>Role-Playing</td>\n",
       "      <td>11.27</td>\n",
       "      <td>8.89</td>\n",
       "      <td>10.22</td>\n",
       "      <td>1.00</td>\n",
       "      <td>NaN</td>\n",
       "      <td>NaN</td>\n",
       "      <td>NaN</td>\n",
       "      <td>31.38</td>\n",
       "    </tr>\n",
       "  </tbody>\n",
       "</table>\n",
       "</div>"
      ],
      "text/plain": [
       "   index                      name platform  year_of_release         genre  \\\n",
       "0      0                Wii Sports      Wii             2006        Sports   \n",
       "1      1         Super Mario Bros.      NES             1985      Platform   \n",
       "2      2            Mario Kart Wii      Wii             2008        Racing   \n",
       "3      3         Wii Sports Resort      Wii             2009        Sports   \n",
       "4      4  Pokemon Red/Pokemon Blue       GB             1996  Role-Playing   \n",
       "\n",
       "   na_sales  eu_sales  jp_sales  other_sales  critic_score  user_score rating  \\\n",
       "0     41.36     28.96      3.77         8.45          76.0         8.0      E   \n",
       "1     29.08      3.58      6.81         0.77           NaN         NaN    NaN   \n",
       "2     15.68     12.76      3.79         3.29          82.0         8.3      E   \n",
       "3     15.61     10.93      3.28         2.95          80.0         8.0      E   \n",
       "4     11.27      8.89     10.22         1.00           NaN         NaN    NaN   \n",
       "\n",
       "   all_sales  \n",
       "0      82.54  \n",
       "1      40.24  \n",
       "2      35.52  \n",
       "3      32.77  \n",
       "4      31.38  "
      ]
     },
     "execution_count": 23,
     "metadata": {},
     "output_type": "execute_result"
    }
   ],
   "source": [
    "data.head() # Проверяем"
   ]
  },
  {
   "cell_type": "code",
   "execution_count": 24,
   "id": "36367354",
   "metadata": {},
   "outputs": [
    {
     "data": {
      "text/plain": [
       "(16713, 13)"
      ]
     },
     "execution_count": 24,
     "metadata": {},
     "output_type": "execute_result"
    }
   ],
   "source": [
    "data.shape # Проверяем размер данных после преобразований"
   ]
  },
  {
   "cell_type": "markdown",
   "id": "287da339",
   "metadata": {},
   "source": [
    "<div style=\"border:solid blue 2px; padding: 20px\">\n",
    "ВЫВОД: причесали датасет, что бы в дальнейшем исследовании не было ошибок преобрзования данных - типы данных приведены к логически верным, наименование столбцов к нижнему регистру для удобства, заменен артефакт tbd, добавлена колонка общих продаж"
   ]
  },
  {
   "cell_type": "markdown",
   "id": "eeff0c82",
   "metadata": {},
   "source": [
    "## Исследовательский анализ данных"
   ]
  },
  {
   "cell_type": "markdown",
   "id": "503e1235",
   "metadata": {},
   "source": [
    "### Количество игр в разные годы"
   ]
  },
  {
   "cell_type": "code",
   "execution_count": 25,
   "id": "10e2f5fb",
   "metadata": {
    "scrolled": true
   },
   "outputs": [
    {
     "data": {
      "image/png": "[encoded data removed]",
      "text/plain": [
       "<Figure size 360x360 with 1 Axes>"
      ]
     },
     "metadata": {
      "needs_background": "light"
     },
     "output_type": "display_data"
    }
   ],
   "source": [
    "# Построим график для всей выборки данных\n",
    "# По значениям года выпуска и методом проб установим рамки с 1980 по 2016\n",
    "    \n",
    "data.plot(y = 'year_of_release', kind = 'hist', bins = 30, range = (1980,2016), grid=True, figsize = (5,5));\n",
    "plt.title('Количество игр в разные годы')\n",
    "plt.xlabel('Годы')\n",
    "plt.ylabel('Количество')\n",
    "plt.show()"
   ]
  },
  {
   "cell_type": "markdown",
   "id": "3632813e",
   "metadata": {},
   "source": [
    "**С 1980 индустрия только зарождалсь и к 1993 начала резкий путь наверх**\n",
    "\n",
    "**Можно сказать что наиболее важный путь - это с 1993 и до конца выборки - время рождения и становления феномена игр на консолях**"
   ]
  },
  {
   "cell_type": "code",
   "execution_count": 26,
   "id": "f01bcc57",
   "metadata": {},
   "outputs": [
    {
     "data": {
      "image/png": "[encoded data removed]",
      "text/plain": [
       "<Figure size 432x288 with 1 Axes>"
      ]
     },
     "metadata": {
      "needs_background": "light"
     },
     "output_type": "display_data"
    }
   ],
   "source": [
    "# Построим график для наиболее обширного пути\n",
    "# По значениям года выпуска  установим рамки с 1933 по 2016\n",
    "\n",
    "data.plot(y = 'year_of_release', kind = 'hist', bins = 50, range = (1993,2016), grid=True);\n",
    "plt.title('Количество игр с 1993 по 2016')\n",
    "plt.xlabel('Год')\n",
    "plt.ylabel('Количество')\n",
    "plt.show()"
   ]
  },
  {
   "cell_type": "markdown",
   "id": "6cf02550",
   "metadata": {},
   "source": [
    "**На данном графике виден уверенный рост до 2008 года и падение, потом вновь рост к 2015. Можно дать промежуточную оценку, что финансовый кризис 2008 года ударил по индустрии игр**"
   ]
  },
  {
   "cell_type": "markdown",
   "id": "3e58a2b6",
   "metadata": {},
   "source": [
    "### Продажи по платформам"
   ]
  },
  {
   "cell_type": "markdown",
   "id": "edde5d18",
   "metadata": {},
   "source": [
    "**Посмотрим какие платформы продаются чаще найдем топ 10**"
   ]
  },
  {
   "cell_type": "code",
   "execution_count": 27,
   "id": "688fa6d3",
   "metadata": {},
   "outputs": [],
   "source": [
    "top_platform_sales = data['platform'].value_counts().head(10) # топ 10 платформ\n",
    "top_platform_sales_max = data.query(\n",
    "    'platform in (@top_platform_sales.index)').pivot_table(values='all_sales', index='platform', aggfunc = 'sum')\n",
    "# группируем из топа 10 платформ\n",
    "top_platform = top_platform_sales_max.sort_values('all_sales', ascending=False) # группируем по возрастанию\n",
    "top_platform_10 = top_platform.reset_index() # добавим нумерацию\n"
   ]
  },
  {
   "cell_type": "code",
   "execution_count": 28,
   "id": "b1f0a5ea",
   "metadata": {},
   "outputs": [
    {
     "data": {
      "text/html": [
       "<div>\n",
       "<style scoped>\n",
       "    .dataframe tbody tr th:only-of-type {\n",
       "        vertical-align: middle;\n",
       "    }\n",
       "\n",
       "    .dataframe tbody tr th {\n",
       "        vertical-align: top;\n",
       "    }\n",
       "\n",
       "    .dataframe thead th {\n",
       "        text-align: right;\n",
       "    }\n",
       "</style>\n",
       "<table border=\"1\" class=\"dataframe\">\n",
       "  <thead>\n",
       "    <tr style=\"text-align: right;\">\n",
       "      <th></th>\n",
       "      <th>platform</th>\n",
       "      <th>all_sales</th>\n",
       "    </tr>\n",
       "  </thead>\n",
       "  <tbody>\n",
       "    <tr>\n",
       "      <th>0</th>\n",
       "      <td>PS2</td>\n",
       "      <td>1255.77</td>\n",
       "    </tr>\n",
       "    <tr>\n",
       "      <th>1</th>\n",
       "      <td>X360</td>\n",
       "      <td>971.42</td>\n",
       "    </tr>\n",
       "    <tr>\n",
       "      <th>2</th>\n",
       "      <td>PS3</td>\n",
       "      <td>939.65</td>\n",
       "    </tr>\n",
       "    <tr>\n",
       "      <th>3</th>\n",
       "      <td>Wii</td>\n",
       "      <td>907.51</td>\n",
       "    </tr>\n",
       "    <tr>\n",
       "      <th>4</th>\n",
       "      <td>DS</td>\n",
       "      <td>806.12</td>\n",
       "    </tr>\n",
       "    <tr>\n",
       "      <th>5</th>\n",
       "      <td>PS</td>\n",
       "      <td>730.86</td>\n",
       "    </tr>\n",
       "    <tr>\n",
       "      <th>6</th>\n",
       "      <td>GBA</td>\n",
       "      <td>317.85</td>\n",
       "    </tr>\n",
       "    <tr>\n",
       "      <th>7</th>\n",
       "      <td>PSP</td>\n",
       "      <td>294.05</td>\n",
       "    </tr>\n",
       "    <tr>\n",
       "      <th>8</th>\n",
       "      <td>PC</td>\n",
       "      <td>259.52</td>\n",
       "    </tr>\n",
       "    <tr>\n",
       "      <th>9</th>\n",
       "      <td>XB</td>\n",
       "      <td>257.74</td>\n",
       "    </tr>\n",
       "  </tbody>\n",
       "</table>\n",
       "</div>"
      ],
      "text/plain": [
       "  platform  all_sales\n",
       "0      PS2    1255.77\n",
       "1     X360     971.42\n",
       "2      PS3     939.65\n",
       "3      Wii     907.51\n",
       "4       DS     806.12\n",
       "5       PS     730.86\n",
       "6      GBA     317.85\n",
       "7      PSP     294.05\n",
       "8       PC     259.52\n",
       "9       XB     257.74"
      ]
     },
     "execution_count": 28,
     "metadata": {},
     "output_type": "execute_result"
    }
   ],
   "source": [
    "top_platform_10 # выводим"
   ]
  },
  {
   "cell_type": "code",
   "execution_count": 29,
   "id": "e1be3956",
   "metadata": {},
   "outputs": [
    {
     "data": {
      "image/png": "[encoded data removed]",
      "text/plain": [
       "<Figure size 432x288 with 1 Axes>"
      ]
     },
     "metadata": {
      "needs_background": "light"
     },
     "output_type": "display_data"
    }
   ],
   "source": [
    "sns.barplot(data=top_platform_10, x=\"platform\", y=\"all_sales\"); # визуализируем\n",
    "plt.title('График продаж по платформам')\n",
    "plt.ylabel('Общее количество продаж')\n",
    "plt.xlabel('Наименование платформы')\n",
    "plt.show()"
   ]
  },
  {
   "cell_type": "code",
   "execution_count": 30,
   "id": "cad53b70",
   "metadata": {},
   "outputs": [
    {
     "data": {
      "text/plain": [
       "['PS2', 'X360', 'PS3', 'Wii', 'DS', 'PS', 'GBA', 'PSP', 'PC', 'XB']"
      ]
     },
     "execution_count": 30,
     "metadata": {},
     "output_type": "execute_result"
    }
   ],
   "source": [
    "list(top_platform_10['platform'])"
   ]
  },
  {
   "cell_type": "markdown",
   "id": "fcde7971",
   "metadata": {},
   "source": [
    "*Чаще продаются платформы на графике выше - самые продаваемые платформы это 'PS2', 'X360', 'PS3'*"
   ]
  },
  {
   "cell_type": "markdown",
   "id": "ac8733fc",
   "metadata": {},
   "source": [
    "**Составим топ распределения по годам**"
   ]
  },
  {
   "cell_type": "code",
   "execution_count": 31,
   "id": "3a1339e4",
   "metadata": {},
   "outputs": [],
   "source": [
    "# группируем из топа 10 платформ\n",
    "\n",
    "top_year_sales= data['year_of_release'].value_counts().head(10) # топ 10 платформ\n",
    "top_platform_sales_max = data.query(\n",
    "    'year_of_release in (@top_year_sales.index)').pivot_table(values='all_sales', index='year_of_release', aggfunc = 'sum')\n",
    "top_year = top_platform_sales_max.sort_values('all_sales', ascending=False) # группируем по возрастанию\n"
   ]
  },
  {
   "cell_type": "code",
   "execution_count": 32,
   "id": "b6731872",
   "metadata": {},
   "outputs": [],
   "source": [
    "top_year_10 = top_year.reset_index()"
   ]
  },
  {
   "cell_type": "code",
   "execution_count": 33,
   "id": "d2762762",
   "metadata": {},
   "outputs": [
    {
     "data": {
      "text/html": [
       "<div>\n",
       "<style scoped>\n",
       "    .dataframe tbody tr th:only-of-type {\n",
       "        vertical-align: middle;\n",
       "    }\n",
       "\n",
       "    .dataframe tbody tr th {\n",
       "        vertical-align: top;\n",
       "    }\n",
       "\n",
       "    .dataframe thead th {\n",
       "        text-align: right;\n",
       "    }\n",
       "</style>\n",
       "<table border=\"1\" class=\"dataframe\">\n",
       "  <thead>\n",
       "    <tr style=\"text-align: right;\">\n",
       "      <th></th>\n",
       "      <th>year_of_release</th>\n",
       "      <th>all_sales</th>\n",
       "    </tr>\n",
       "  </thead>\n",
       "  <tbody>\n",
       "    <tr>\n",
       "      <th>0</th>\n",
       "      <td>2008</td>\n",
       "      <td>671.50</td>\n",
       "    </tr>\n",
       "    <tr>\n",
       "      <th>1</th>\n",
       "      <td>2009</td>\n",
       "      <td>658.82</td>\n",
       "    </tr>\n",
       "    <tr>\n",
       "      <th>2</th>\n",
       "      <td>2007</td>\n",
       "      <td>604.75</td>\n",
       "    </tr>\n",
       "    <tr>\n",
       "      <th>3</th>\n",
       "      <td>2010</td>\n",
       "      <td>590.13</td>\n",
       "    </tr>\n",
       "    <tr>\n",
       "      <th>4</th>\n",
       "      <td>2006</td>\n",
       "      <td>517.71</td>\n",
       "    </tr>\n",
       "    <tr>\n",
       "      <th>5</th>\n",
       "      <td>2011</td>\n",
       "      <td>507.58</td>\n",
       "    </tr>\n",
       "    <tr>\n",
       "      <th>6</th>\n",
       "      <td>2005</td>\n",
       "      <td>457.82</td>\n",
       "    </tr>\n",
       "    <tr>\n",
       "      <th>7</th>\n",
       "      <td>2004</td>\n",
       "      <td>418.68</td>\n",
       "    </tr>\n",
       "    <tr>\n",
       "      <th>8</th>\n",
       "      <td>2002</td>\n",
       "      <td>394.97</td>\n",
       "    </tr>\n",
       "    <tr>\n",
       "      <th>9</th>\n",
       "      <td>2003</td>\n",
       "      <td>357.54</td>\n",
       "    </tr>\n",
       "  </tbody>\n",
       "</table>\n",
       "</div>"
      ],
      "text/plain": [
       "   year_of_release  all_sales\n",
       "0             2008     671.50\n",
       "1             2009     658.82\n",
       "2             2007     604.75\n",
       "3             2010     590.13\n",
       "4             2006     517.71\n",
       "5             2011     507.58\n",
       "6             2005     457.82\n",
       "7             2004     418.68\n",
       "8             2002     394.97\n",
       "9             2003     357.54"
      ]
     },
     "execution_count": 33,
     "metadata": {},
     "output_type": "execute_result"
    }
   ],
   "source": [
    "top_year_10"
   ]
  },
  {
   "cell_type": "code",
   "execution_count": 34,
   "id": "2d02c37a",
   "metadata": {},
   "outputs": [
    {
     "data": {
      "image/png": "[encoded data removed]",
      "text/plain": [
       "<Figure size 432x288 with 1 Axes>"
      ]
     },
     "metadata": {
      "needs_background": "light"
     },
     "output_type": "display_data"
    }
   ],
   "source": [
    "sns.barplot(data=top_year_10, x=\"year_of_release\", y=\"all_sales\");\n",
    "plt.title('График продаж по годам')\n",
    "plt.ylabel('Общее количество продаж')\n",
    "plt.xlabel('Год')\n",
    "plt.show()"
   ]
  },
  {
   "cell_type": "code",
   "execution_count": 35,
   "id": "c954f82c",
   "metadata": {},
   "outputs": [
    {
     "data": {
      "text/plain": [
       "[2008, 2009, 2007, 2010, 2006, 2011, 2005, 2004, 2002, 2003]"
      ]
     },
     "execution_count": 35,
     "metadata": {},
     "output_type": "execute_result"
    }
   ],
   "source": [
    "list(top_year_10['year_of_release'])"
   ]
  },
  {
   "cell_type": "markdown",
   "id": "05d8be5b",
   "metadata": {},
   "source": [
    "*Года с максимуми продаж - это 2008 2009 2007*"
   ]
  },
  {
   "cell_type": "markdown",
   "id": "bc8c2a9d",
   "metadata": {},
   "source": [
    "*Четко виден рост к 2008 и падение после него*"
   ]
  },
  {
   "cell_type": "markdown",
   "id": "3bd02d5d",
   "metadata": {},
   "source": [
    "**Срок жизни платформ**"
   ]
  },
  {
   "cell_type": "code",
   "execution_count": 36,
   "id": "3aaff083",
   "metadata": {},
   "outputs": [
    {
     "data": {
      "text/plain": [
       "10"
      ]
     },
     "execution_count": 36,
     "metadata": {},
     "output_type": "execute_result"
    }
   ],
   "source": [
    "top_year_10['year_of_release'].count() # Прмерный ориентир жизни платформы"
   ]
  },
  {
   "cell_type": "code",
   "execution_count": 37,
   "id": "3ee6a544",
   "metadata": {},
   "outputs": [
    {
     "data": {
      "image/png": "[encoded data removed]",
      "text/plain": [
       "<Figure size 1080x360 with 1 Axes>"
      ]
     },
     "metadata": {
      "needs_background": "light"
     },
     "output_type": "display_data"
    }
   ],
   "source": [
    "# Прмерный ориентир жизни платформы можно посмотреть наглядно\n",
    "# Возьмем топ платформ и выведем их жиненный путь по продажам на график\n",
    "\n",
    "data_life = data.query(\"platform == ['PS2', 'X360', 'PS3', 'Wii', 'DS', 'PS', 'GBA', 'PSP', 'PC', 'XB'] and year_of_release > 1995\")\n",
    "data_life.pivot_table(index='year_of_release', columns = 'platform', values='all_sales', aggfunc='sum').plot(\n",
    "    grid=True, figsize=(15, 5));\n",
    "plt.title('Срок жизни 10 Топ продовамых платформ')\n",
    "plt.xlabel('Год релиза')\n",
    "plt.ylabel('Общее количество продаж')\n",
    "plt.show()"
   ]
  },
  {
   "cell_type": "markdown",
   "id": "9b56841c",
   "metadata": {},
   "source": [
    "*Платформа живет 10 лет, чаще всего*"
   ]
  },
  {
   "cell_type": "markdown",
   "id": "73f3aa50",
   "metadata": {},
   "source": [
    "### Актуальный период для выборки"
   ]
  },
  {
   "cell_type": "markdown",
   "id": "f8a94c08",
   "metadata": {},
   "source": [
    "**Возьмем самые продоваемые платформы в самые продоваемые года**"
   ]
  },
  {
   "cell_type": "markdown",
   "id": "1fe91a91",
   "metadata": {},
   "source": [
    "<div class=\"alert alert-info\">\n",
    "<b> Выберем актуальный период из логики данных, которые мы имеем. Раз нам нужен прогноз на 2017 и желание увидеть еще актуальные платформы достаточно велико, данные мы возьмем за 2015 и 2016 год.</b> \n",
    "</div>"
   ]
  },
  {
   "cell_type": "code",
   "execution_count": 38,
   "id": "4e1e34e2",
   "metadata": {},
   "outputs": [
    {
     "data": {
      "image/png": "[encoded data removed]",
      "text/plain": [
       "<Figure size 1080x360 with 1 Axes>"
      ]
     },
     "metadata": {
      "needs_background": "light"
     },
     "output_type": "display_data"
    }
   ],
   "source": [
    "# Посмотрим все платформы, на период оставим с 2015 по 2016\n",
    "\n",
    "period_actyal = data.query('year_of_release >= 2014') \n",
    "\n",
    "period_actyal.pivot_table(index='year_of_release', columns = 'platform', values='all_sales', aggfunc='sum').plot(\n",
    "    grid=True, figsize=(15, 5));\n",
    "plt.title('Топ продаж платформ по Топ годам с 2015 по 2016')\n",
    "plt.xlabel('Год релиза')\n",
    "plt.ylabel('Общее количество продаж')\n",
    "plt.show()"
   ]
  },
  {
   "cell_type": "markdown",
   "id": "661d42da",
   "metadata": {},
   "source": [
    "<div class=\"alert alert-info\">\n",
    "<b> Найдем самые продаваемые платформы из новой выборки, где года только 2015 и 2016</b> \n",
    "</div>"
   ]
  },
  {
   "cell_type": "code",
   "execution_count": 39,
   "id": "331af8fd",
   "metadata": {},
   "outputs": [],
   "source": [
    "top_pl_actyal_sales = period_actyal['platform'].value_counts().head(10) # топ 10 платформ\n",
    "top_pl_actyal_max = period_actyal.query(\n",
    "    'platform in (@top_pl_actyal_sales.index)').pivot_table(values='all_sales', index='platform', aggfunc = 'sum')\n",
    "top_plat_actyal = top_pl_actyal_max.sort_values('all_sales', ascending=False) # группируем по возрастанию\n",
    "top_plat_actyal_sal = top_plat_actyal.reset_index()"
   ]
  },
  {
   "cell_type": "code",
   "execution_count": 40,
   "id": "8ce93c4c",
   "metadata": {},
   "outputs": [
    {
     "data": {
      "text/html": [
       "<div>\n",
       "<style scoped>\n",
       "    .dataframe tbody tr th:only-of-type {\n",
       "        vertical-align: middle;\n",
       "    }\n",
       "\n",
       "    .dataframe tbody tr th {\n",
       "        vertical-align: top;\n",
       "    }\n",
       "\n",
       "    .dataframe thead th {\n",
       "        text-align: right;\n",
       "    }\n",
       "</style>\n",
       "<table border=\"1\" class=\"dataframe\">\n",
       "  <thead>\n",
       "    <tr style=\"text-align: right;\">\n",
       "      <th></th>\n",
       "      <th>platform</th>\n",
       "      <th>all_sales</th>\n",
       "    </tr>\n",
       "  </thead>\n",
       "  <tbody>\n",
       "    <tr>\n",
       "      <th>0</th>\n",
       "      <td>PS4</td>\n",
       "      <td>288.15</td>\n",
       "    </tr>\n",
       "    <tr>\n",
       "      <th>1</th>\n",
       "      <td>XOne</td>\n",
       "      <td>140.36</td>\n",
       "    </tr>\n",
       "    <tr>\n",
       "      <th>2</th>\n",
       "      <td>3DS</td>\n",
       "      <td>86.68</td>\n",
       "    </tr>\n",
       "    <tr>\n",
       "      <th>3</th>\n",
       "      <td>PS3</td>\n",
       "      <td>68.18</td>\n",
       "    </tr>\n",
       "    <tr>\n",
       "      <th>4</th>\n",
       "      <td>X360</td>\n",
       "      <td>48.22</td>\n",
       "    </tr>\n",
       "    <tr>\n",
       "      <th>5</th>\n",
       "      <td>WiiU</td>\n",
       "      <td>42.98</td>\n",
       "    </tr>\n",
       "    <tr>\n",
       "      <th>6</th>\n",
       "      <td>PC</td>\n",
       "      <td>27.05</td>\n",
       "    </tr>\n",
       "    <tr>\n",
       "      <th>7</th>\n",
       "      <td>PSV</td>\n",
       "      <td>22.40</td>\n",
       "    </tr>\n",
       "    <tr>\n",
       "      <th>8</th>\n",
       "      <td>Wii</td>\n",
       "      <td>5.07</td>\n",
       "    </tr>\n",
       "    <tr>\n",
       "      <th>9</th>\n",
       "      <td>PSP</td>\n",
       "      <td>0.36</td>\n",
       "    </tr>\n",
       "  </tbody>\n",
       "</table>\n",
       "</div>"
      ],
      "text/plain": [
       "  platform  all_sales\n",
       "0      PS4     288.15\n",
       "1     XOne     140.36\n",
       "2      3DS      86.68\n",
       "3      PS3      68.18\n",
       "4     X360      48.22\n",
       "5     WiiU      42.98\n",
       "6       PC      27.05\n",
       "7      PSV      22.40\n",
       "8      Wii       5.07\n",
       "9      PSP       0.36"
      ]
     },
     "execution_count": 40,
     "metadata": {},
     "output_type": "execute_result"
    }
   ],
   "source": [
    "top_plat_actyal_sal"
   ]
  },
  {
   "cell_type": "code",
   "execution_count": 41,
   "id": "41b92147",
   "metadata": {},
   "outputs": [
    {
     "data": {
      "image/png": "[encoded data removed]",
      "text/plain": [
       "<Figure size 432x288 with 1 Axes>"
      ]
     },
     "metadata": {
      "needs_background": "light"
     },
     "output_type": "display_data"
    }
   ],
   "source": [
    "sns.barplot(data=top_plat_actyal_sal, x=\"platform\", y=\"all_sales\");\n",
    "plt.title('График продаж по 2015 - 2016')\n",
    "plt.ylabel('Общее количество продаж')\n",
    "plt.xlabel('Платформа')\n",
    "plt.show()"
   ]
  },
  {
   "cell_type": "markdown",
   "id": "4cab8214",
   "metadata": {},
   "source": [
    "<div class=\"alert alert-info\">\n",
    "<b> Видно 3 платформы у которых больше всего продаж, у остальных результаты скромнее посмотрим ближе на расределения</b> \n",
    "</div>"
   ]
  },
  {
   "cell_type": "code",
   "execution_count": 42,
   "id": "2a6c6ad4",
   "metadata": {},
   "outputs": [
    {
     "data": {
      "text/plain": [
       "['PS4', 'XOne', '3DS', 'PS3', 'X360', 'WiiU', 'PC', 'PSV', 'Wii', 'PSP']"
      ]
     },
     "execution_count": 42,
     "metadata": {},
     "output_type": "execute_result"
    }
   ],
   "source": [
    "list(top_plat_actyal_sal['platform'])"
   ]
  },
  {
   "cell_type": "code",
   "execution_count": 43,
   "id": "13d48446",
   "metadata": {},
   "outputs": [
    {
     "data": {
      "image/png": "[encoded data removed]",
      "text/plain": [
       "<Figure size 1080x360 with 1 Axes>"
      ]
     },
     "metadata": {
      "needs_background": "light"
     },
     "output_type": "display_data"
    }
   ],
   "source": [
    "PS3_data = period_actyal.query(\"platform == ['PS4', 'XOne', '3DS'] and year_of_release > 2014\")\n",
    "PS3_data.pivot_table(index='year_of_release', columns = 'platform', values='all_sales', aggfunc='sum').plot(\n",
    "    grid=True, figsize=(15, 5));\n",
    "plt.xlabel('Год релиза')\n",
    "plt.ylabel('Общее количество продаж')\n",
    "plt.show()"
   ]
  },
  {
   "cell_type": "markdown",
   "id": "88627f4e",
   "metadata": {},
   "source": [
    "<div class=\"alert alert-info\">\n",
    "<b> '3DS','PS4'и 'XOne' уверенно идут вниз - можно предположить что и в дальнейшем продажи будут падать\n",
    "</div>"
   ]
  },
  {
   "cell_type": "code",
   "execution_count": 44,
   "id": "ddf2da5c",
   "metadata": {},
   "outputs": [
    {
     "data": {
      "image/png": "[encoded data removed]",
      "text/plain": [
       "<Figure size 1080x360 with 1 Axes>"
      ]
     },
     "metadata": {
      "needs_background": "light"
     },
     "output_type": "display_data"
    }
   ],
   "source": [
    "PS3_data = period_actyal.query(\"platform == ['PS3', 'X360', 'WiiU'] and year_of_release > 2013\")\n",
    "PS3_data.pivot_table(index='year_of_release', columns = 'platform', values='all_sales', aggfunc='sum').plot(\n",
    "    grid=True, figsize=(15, 5));\n",
    "plt.xlabel('Год релиза')\n",
    "plt.ylabel('Общее количество продаж')\n",
    "plt.show()"
   ]
  },
  {
   "cell_type": "markdown",
   "id": "9af61d13",
   "metadata": {},
   "source": [
    "<div class=\"alert alert-info\">\n",
    "<b> 'PS3', 'X360' равномерно резко снижались с 14ого по 15ый год и более равномерно продолжили падение в след году, \"WiiU\" уверенно падает в своем темпе\n",
    "</div>"
   ]
  },
  {
   "cell_type": "code",
   "execution_count": 45,
   "id": "3a48a525",
   "metadata": {},
   "outputs": [
    {
     "data": {
      "image/png": "[encoded data removed]",
      "text/plain": [
       "<Figure size 1080x360 with 1 Axes>"
      ]
     },
     "metadata": {
      "needs_background": "light"
     },
     "output_type": "display_data"
    }
   ],
   "source": [
    "PS3_data = period_actyal.query(\"platform == ['PC', 'PSV', 'Wii'] and year_of_release > 2014\")\n",
    "PS3_data.pivot_table(index='year_of_release', columns = 'platform', values='all_sales', aggfunc='sum').plot(\n",
    "    grid=True, figsize=(15, 5));\n",
    "plt.xlabel('Год релиза')\n",
    "plt.ylabel('Общее количество продаж')\n",
    "plt.show()"
   ]
  },
  {
   "cell_type": "markdown",
   "id": "6ef24ce2",
   "metadata": {},
   "source": [
    "<div class=\"alert alert-info\">\n",
    "<b> Тут у всех динамика равномерномерного падения</b> \n",
    "</div>"
   ]
  },
  {
   "cell_type": "markdown",
   "id": "5652de30",
   "metadata": {},
   "source": [
    "<div class=\"alert alert-info\">\n",
    "<b> Актуальный период определили по новой взяли с 2014 года по 2016, топ продаж построен - в топе 'X360', 'PS3', 'Wii', динамика определена в - тенденция на снижение продаж не считая 'PSV' 'PC','PSP' и 'Wii'  </b> \n",
    "</div>"
   ]
  },
  {
   "cell_type": "markdown",
   "id": "5757ba1c",
   "metadata": {},
   "source": [
    "### График с усами"
   ]
  },
  {
   "cell_type": "markdown",
   "id": "55c952d3",
   "metadata": {},
   "source": [
    "<div class=\"alert alert-info\">\n",
    "<b> Добавим в график параметр пplt.ylim(0, 2) что бы видеть нижнюю часть и разабьем выборку на 2 части что бы отчетливо видеть названия </b> \n",
    "</div>"
   ]
  },
  {
   "cell_type": "code",
   "execution_count": 46,
   "id": "d5c1b425",
   "metadata": {},
   "outputs": [
    {
     "data": {
      "text/plain": [
       "array(['PS4', '3DS', 'XOne', 'WiiU', 'PS3', 'X360', 'PC', 'Wii', 'PSV',\n",
       "       'PSP'], dtype=object)"
      ]
     },
     "execution_count": 46,
     "metadata": {},
     "output_type": "execute_result"
    }
   ],
   "source": [
    "period_actyal['platform'].unique() # Выведем все приставки"
   ]
  },
  {
   "cell_type": "code",
   "execution_count": 47,
   "id": "0d36a40a",
   "metadata": {},
   "outputs": [
    {
     "data": {
      "image/png": "[encoded data removed]",
      "text/plain": [
       "<Figure size 432x288 with 1 Axes>"
      ]
     },
     "metadata": {
      "needs_background": "light"
     },
     "output_type": "display_data"
    }
   ],
   "source": [
    "# Строим диаграмму размаха по первой половине на нижний ус\n",
    "\n",
    "first_part_data = period_actyal.query(\"platform == ['PS4', '3DS', 'XOne', 'WiiU', 'PS3']\")\n",
    "first_part_data.boxplot(column='all_sales', by='platform')\n",
    "plt.ylim(0, 2)\n",
    "plt.xlabel('Платформа')\n",
    "plt.ylabel('Общее количество продаж')\n",
    "plt.show()\n",
    "\n"
   ]
  },
  {
   "cell_type": "markdown",
   "id": "23b92f1e",
   "metadata": {},
   "source": [
    "<div class=\"alert alert-info\">\n",
    "<b> У всех платформ медина в примерно одном диапозоне, больша я часть значений - это то что лежит в \"прямоугольнике\" - у PS4 и XOne  примерно на уровне 0.73 на третьем месте WiiU  и замыкает 3DS и PS3\n",
    "</div>"
   ]
  },
  {
   "cell_type": "code",
   "execution_count": 48,
   "id": "3db3f9ee",
   "metadata": {},
   "outputs": [
    {
     "data": {
      "image/png": "[encoded data removed]",
      "text/plain": [
       "<Figure size 432x288 with 1 Axes>"
      ]
     },
     "metadata": {
      "needs_background": "light"
     },
     "output_type": "display_data"
    }
   ],
   "source": [
    "# Строим диаграмму размаха по первой половине на верхний ус\n",
    "\n",
    "first_part_data = period_actyal.query(\"platform == ['PS4', '3DS', 'XOne', 'WiiU', 'PS3']\")\n",
    "first_part_data.boxplot(column='all_sales', by='platform')\n",
    "plt.xlabel('Платформа')\n",
    "plt.ylabel('Общее количество продаж')\n",
    "plt.show()"
   ]
  },
  {
   "cell_type": "markdown",
   "id": "5e6aab9d",
   "metadata": {},
   "source": [
    "<div class=\"alert alert-info\">\n",
    "<b> Больше всего выбросов у PS4 и 3DS на уровне 14 и 12 возможно это сходится с релизами супер популярных игр на этих платформах\n",
    "</div>"
   ]
  },
  {
   "cell_type": "code",
   "execution_count": 49,
   "id": "739e12c7",
   "metadata": {},
   "outputs": [
    {
     "data": {
      "image/png": "[encoded data removed]",
      "text/plain": [
       "<Figure size 432x288 with 1 Axes>"
      ]
     },
     "metadata": {
      "needs_background": "light"
     },
     "output_type": "display_data"
    }
   ],
   "source": [
    "# Строим диаграмму размаха по первой половине на нижний ус\n",
    "\n",
    "first_part_data = period_actyal.query(\"platform == ['PS4', '3DS', 'XOne', 'WiiU', 'PS3']\")\n",
    "first_part_data.boxplot(column='all_sales', by='platform')\n",
    "plt.ylim(0, 1)\n",
    "plt.xlabel('Платформа')\n",
    "plt.ylabel('Общее количество продаж')\n",
    "plt.show()"
   ]
  },
  {
   "cell_type": "code",
   "execution_count": 50,
   "id": "4d69874e",
   "metadata": {},
   "outputs": [
    {
     "data": {
      "text/plain": [
       "count    1108.000000\n",
       "mean        0.565298\n",
       "std         1.255254\n",
       "min         0.010000\n",
       "25%         0.040000\n",
       "50%         0.130000\n",
       "75%         0.480000\n",
       "max        14.630000\n",
       "Name: all_sales, dtype: float64"
      ]
     },
     "execution_count": 50,
     "metadata": {},
     "output_type": "execute_result"
    }
   ],
   "source": [
    "first_part_data['all_sales'].describe()"
   ]
  },
  {
   "cell_type": "markdown",
   "id": "5d1dd381",
   "metadata": {},
   "source": [
    "<div class=\"alert alert-info\">\n",
    "<b> Нижние «усы» упираеются в 0,01 минимальное значение. Верхние заканчиваются около 0.48 . Это ориентировочная граница нормального размаха. Всё, что лежит за ней, считается выбросом. Более высокие значения рисуются отдельными точками: таких выбросов много и доходят аж до 14.6 у PS4. </b> \n",
    "</div>"
   ]
  },
  {
   "cell_type": "markdown",
   "id": "57c09407",
   "metadata": {},
   "source": [
    "### Влияние на продажи отзывов на примере PS4 "
   ]
  },
  {
   "cell_type": "markdown",
   "id": "53499f5a",
   "metadata": {},
   "source": [
    "**Диаграмма рассеяния - посмотрим на примере PS4 и остальных топ 5 платформ**"
   ]
  },
  {
   "cell_type": "markdown",
   "id": "8d086ef6",
   "metadata": {},
   "source": [
    "<div class=\"alert alert-info\">\n",
    "<b> Исследование берем из выборки вктуального периода </b> \n",
    "</div>"
   ]
  },
  {
   "cell_type": "code",
   "execution_count": 51,
   "id": "33b1de9c",
   "metadata": {},
   "outputs": [],
   "source": [
    "first_part_data = period_actyal.query(\"platform == ['PS4', '3DS', 'XOne', 'WiiU', 'PS3']\")"
   ]
  },
  {
   "cell_type": "code",
   "execution_count": 52,
   "id": "653562da",
   "metadata": {},
   "outputs": [
    {
     "name": "stdout",
     "output_type": "stream",
     "text": [
      "Коэффициент корелляции PS4 -0.040131589472697356\n"
     ]
    },
    {
     "data": {
      "image/png": "[encoded data removed]",
      "text/plain": [
       "<Figure size 432x288 with 1 Axes>"
      ]
     },
     "metadata": {
      "needs_background": "light"
     },
     "output_type": "display_data"
    },
    {
     "name": "stdout",
     "output_type": "stream",
     "text": [
      "Коэффициент корелляции 3DS 0.2151932718527028\n"
     ]
    },
    {
     "data": {
      "image/png": "[encoded data removed]",
      "text/plain": [
       "<Figure size 432x288 with 1 Axes>"
      ]
     },
     "metadata": {
      "needs_background": "light"
     },
     "output_type": "display_data"
    },
    {
     "name": "stdout",
     "output_type": "stream",
     "text": [
      "Коэффициент корелляции XOne -0.0703839280647581\n"
     ]
    },
    {
     "data": {
      "image/png": "[encoded data removed]",
      "text/plain": [
       "<Figure size 432x288 with 1 Axes>"
      ]
     },
     "metadata": {
      "needs_background": "light"
     },
     "output_type": "display_data"
    },
    {
     "name": "stdout",
     "output_type": "stream",
     "text": [
      "Коэффициент корелляции WiiU 0.40792645792170773\n"
     ]
    },
    {
     "data": {
      "image/png": "[encoded data removed]",
      "text/plain": [
       "<Figure size 432x288 with 1 Axes>"
      ]
     },
     "metadata": {
      "needs_background": "light"
     },
     "output_type": "display_data"
    },
    {
     "name": "stdout",
     "output_type": "stream",
     "text": [
      "Коэффициент корелляции PS3 -0.16676141347662118\n"
     ]
    },
    {
     "data": {
      "image/png": "[encoded data removed]",
      "text/plain": [
       "<Figure size 432x288 with 1 Axes>"
      ]
     },
     "metadata": {
      "needs_background": "light"
     },
     "output_type": "display_data"
    }
   ],
   "source": [
    "unique_data = 0 \n",
    "\n",
    "for i in first_part_data['platform'].unique():\n",
    "    cor_top5 = first_part_data.query(\"platform == @i\")\n",
    "    print('Коэффициент корелляции', i, cor_top5['user_score'].corr(first_part_data['all_sales']))\n",
    "    cor_top5.plot(x='user_score', y='all_sales', kind='scatter')\n",
    "    plt.title('Диаграмма рассеяния для продаж и оценки пользователей')\n",
    "    plt.xlabel(i)\n",
    "    plt.show()"
   ]
  },
  {
   "cell_type": "code",
   "execution_count": 53,
   "id": "0ebb1077",
   "metadata": {},
   "outputs": [
    {
     "name": "stdout",
     "output_type": "stream",
     "text": [
      "Коэффициент корелляции PS4 0.40266141068104083\n"
     ]
    },
    {
     "data": {
      "image/png": "[encoded data removed]",
      "text/plain": [
       "<Figure size 432x288 with 1 Axes>"
      ]
     },
     "metadata": {
      "needs_background": "light"
     },
     "output_type": "display_data"
    },
    {
     "name": "stdout",
     "output_type": "stream",
     "text": [
      "Коэффициент корелляции 3DS 0.314117492869051\n"
     ]
    },
    {
     "data": {
      "image/png": "[encoded data removed]",
      "text/plain": [
       "<Figure size 432x288 with 1 Axes>"
      ]
     },
     "metadata": {
      "needs_background": "light"
     },
     "output_type": "display_data"
    },
    {
     "name": "stdout",
     "output_type": "stream",
     "text": [
      "Коэффициент корелляции XOne 0.42867694370333226\n"
     ]
    },
    {
     "data": {
      "image/png": "[encoded data removed]",
      "text/plain": [
       "<Figure size 432x288 with 1 Axes>"
      ]
     },
     "metadata": {
      "needs_background": "light"
     },
     "output_type": "display_data"
    },
    {
     "name": "stdout",
     "output_type": "stream",
     "text": [
      "Коэффициент корелляции WiiU 0.370201412480884\n"
     ]
    },
    {
     "data": {
      "image/png": "[encoded data removed]",
      "text/plain": [
       "<Figure size 432x288 with 1 Axes>"
      ]
     },
     "metadata": {
      "needs_background": "light"
     },
     "output_type": "display_data"
    },
    {
     "name": "stdout",
     "output_type": "stream",
     "text": [
      "Коэффициент корелляции PS3 0.44657460493190704\n"
     ]
    },
    {
     "data": {
      "image/png": "[encoded data removed]",
      "text/plain": [
       "<Figure size 432x288 with 1 Axes>"
      ]
     },
     "metadata": {
      "needs_background": "light"
     },
     "output_type": "display_data"
    }
   ],
   "source": [
    "unique_data = 0 \n",
    "\n",
    "for i in first_part_data['platform'].unique():\n",
    "    cor_top5 = first_part_data.query(\"platform == @i\")\n",
    "    print('Коэффициент корелляции', i, cor_top5['critic_score'].corr(first_part_data['all_sales']))\n",
    "    cor_top5.plot(x='critic_score', y='all_sales', kind='scatter')\n",
    "    plt.title('Диаграмма рассеяния для продаж и оценки критиков')\n",
    "    plt.xlabel(i)\n",
    "    plt.show()"
   ]
  },
  {
   "cell_type": "markdown",
   "id": "319a5f2c",
   "metadata": {},
   "source": [
    "<div class=\"alert alert-info\">\n",
    "<b> На популяронйо платформе Коэффициент корелляции PS4 -0.04 от оценок пользователей и 0.40 от оценок критиков, что говорит о большем влиянии критиков на продажи</b> \n",
    "</div>"
   ]
  },
  {
   "cell_type": "markdown",
   "id": "1a0bc83e",
   "metadata": {},
   "source": [
    "### Продажи игр на других платформах"
   ]
  },
  {
   "cell_type": "code",
   "execution_count": 54,
   "id": "de957e15",
   "metadata": {},
   "outputs": [
    {
     "data": {
      "text/html": [
       "<div>\n",
       "<style scoped>\n",
       "    .dataframe tbody tr th:only-of-type {\n",
       "        vertical-align: middle;\n",
       "    }\n",
       "\n",
       "    .dataframe tbody tr th {\n",
       "        vertical-align: top;\n",
       "    }\n",
       "\n",
       "    .dataframe thead th {\n",
       "        text-align: right;\n",
       "    }\n",
       "</style>\n",
       "<table border=\"1\" class=\"dataframe\">\n",
       "  <thead>\n",
       "    <tr style=\"text-align: right;\">\n",
       "      <th></th>\n",
       "      <th>critic_score</th>\n",
       "      <th>user_score</th>\n",
       "      <th>all_sales</th>\n",
       "    </tr>\n",
       "  </thead>\n",
       "  <tbody>\n",
       "    <tr>\n",
       "      <th>critic_score</th>\n",
       "      <td>1.000000</td>\n",
       "      <td>0.440977</td>\n",
       "      <td>0.428677</td>\n",
       "    </tr>\n",
       "    <tr>\n",
       "      <th>user_score</th>\n",
       "      <td>0.440977</td>\n",
       "      <td>1.000000</td>\n",
       "      <td>-0.070384</td>\n",
       "    </tr>\n",
       "    <tr>\n",
       "      <th>all_sales</th>\n",
       "      <td>0.428677</td>\n",
       "      <td>-0.070384</td>\n",
       "      <td>1.000000</td>\n",
       "    </tr>\n",
       "  </tbody>\n",
       "</table>\n",
       "</div>"
      ],
      "text/plain": [
       "              critic_score  user_score  all_sales\n",
       "critic_score      1.000000    0.440977   0.428677\n",
       "user_score        0.440977    1.000000  -0.070384\n",
       "all_sales         0.428677   -0.070384   1.000000"
      ]
     },
     "execution_count": 54,
     "metadata": {},
     "output_type": "execute_result"
    }
   ],
   "source": [
    "first_part_data = period_actyal.query(\"platform == ['XOne']\")\n",
    "\n",
    "XOne_cor = first_part_data[['critic_score','user_score', 'all_sales']]\n",
    "XOne_cor.corr()"
   ]
  },
  {
   "cell_type": "code",
   "execution_count": 55,
   "id": "81dbbc54",
   "metadata": {},
   "outputs": [
    {
     "data": {
      "text/html": [
       "<div>\n",
       "<style scoped>\n",
       "    .dataframe tbody tr th:only-of-type {\n",
       "        vertical-align: middle;\n",
       "    }\n",
       "\n",
       "    .dataframe tbody tr th {\n",
       "        vertical-align: top;\n",
       "    }\n",
       "\n",
       "    .dataframe thead th {\n",
       "        text-align: right;\n",
       "    }\n",
       "</style>\n",
       "<table border=\"1\" class=\"dataframe\">\n",
       "  <thead>\n",
       "    <tr style=\"text-align: right;\">\n",
       "      <th></th>\n",
       "      <th>critic_score</th>\n",
       "      <th>user_score</th>\n",
       "      <th>all_sales</th>\n",
       "    </tr>\n",
       "  </thead>\n",
       "  <tbody>\n",
       "    <tr>\n",
       "      <th>critic_score</th>\n",
       "      <td>1.000000</td>\n",
       "      <td>0.862485</td>\n",
       "      <td>0.314117</td>\n",
       "    </tr>\n",
       "    <tr>\n",
       "      <th>user_score</th>\n",
       "      <td>0.862485</td>\n",
       "      <td>1.000000</td>\n",
       "      <td>0.215193</td>\n",
       "    </tr>\n",
       "    <tr>\n",
       "      <th>all_sales</th>\n",
       "      <td>0.314117</td>\n",
       "      <td>0.215193</td>\n",
       "      <td>1.000000</td>\n",
       "    </tr>\n",
       "  </tbody>\n",
       "</table>\n",
       "</div>"
      ],
      "text/plain": [
       "              critic_score  user_score  all_sales\n",
       "critic_score      1.000000    0.862485   0.314117\n",
       "user_score        0.862485    1.000000   0.215193\n",
       "all_sales         0.314117    0.215193   1.000000"
      ]
     },
     "execution_count": 55,
     "metadata": {},
     "output_type": "execute_result"
    }
   ],
   "source": [
    "first_part_data = period_actyal.query(\"platform == ['3DS']\")\n",
    "\n",
    "а3DS_cor = first_part_data[['critic_score','user_score', 'all_sales']]\n",
    "а3DS_cor.corr()\n"
   ]
  },
  {
   "cell_type": "code",
   "execution_count": 56,
   "id": "38f5237d",
   "metadata": {},
   "outputs": [
    {
     "data": {
      "text/html": [
       "<div>\n",
       "<style scoped>\n",
       "    .dataframe tbody tr th:only-of-type {\n",
       "        vertical-align: middle;\n",
       "    }\n",
       "\n",
       "    .dataframe tbody tr th {\n",
       "        vertical-align: top;\n",
       "    }\n",
       "\n",
       "    .dataframe thead th {\n",
       "        text-align: right;\n",
       "    }\n",
       "</style>\n",
       "<table border=\"1\" class=\"dataframe\">\n",
       "  <thead>\n",
       "    <tr style=\"text-align: right;\">\n",
       "      <th></th>\n",
       "      <th>critic_score</th>\n",
       "      <th>user_score</th>\n",
       "      <th>all_sales</th>\n",
       "    </tr>\n",
       "  </thead>\n",
       "  <tbody>\n",
       "    <tr>\n",
       "      <th>critic_score</th>\n",
       "      <td>1.000000</td>\n",
       "      <td>0.693445</td>\n",
       "      <td>0.446575</td>\n",
       "    </tr>\n",
       "    <tr>\n",
       "      <th>user_score</th>\n",
       "      <td>0.693445</td>\n",
       "      <td>1.000000</td>\n",
       "      <td>-0.166761</td>\n",
       "    </tr>\n",
       "    <tr>\n",
       "      <th>all_sales</th>\n",
       "      <td>0.446575</td>\n",
       "      <td>-0.166761</td>\n",
       "      <td>1.000000</td>\n",
       "    </tr>\n",
       "  </tbody>\n",
       "</table>\n",
       "</div>"
      ],
      "text/plain": [
       "              critic_score  user_score  all_sales\n",
       "critic_score      1.000000    0.693445   0.446575\n",
       "user_score        0.693445    1.000000  -0.166761\n",
       "all_sales         0.446575   -0.166761   1.000000"
      ]
     },
     "execution_count": 56,
     "metadata": {},
     "output_type": "execute_result"
    }
   ],
   "source": [
    "first_part_data = period_actyal.query(\"platform == ['PS3']\")\n",
    "\n",
    "PS3_cor = first_part_data[['critic_score','user_score', 'all_sales']]\n",
    "PS3_cor.corr()"
   ]
  },
  {
   "cell_type": "markdown",
   "id": "639847b0",
   "metadata": {},
   "source": [
    "<div class=\"alert alert-info\">\n",
    "<b> В актуальном периоде оценнки критиков влияют на продажи сильнее оценок пользователей по всем изученым платформам\n",
    "    \n",
    "    XOne критики 0.428677\tПользователи -0.070384\n",
    "    3DS критики 0.314117\tПользователи 0.215193\n",
    "    PS3 критики 0.446575\tПользователи -0.166761\n",
    "</div>"
   ]
  },
  {
   "cell_type": "markdown",
   "id": "209a3f7c",
   "metadata": {},
   "source": [
    "<div class=\"alert alert-block alert-danger\">\n",
    "<h2> Комментарий ревьюера v2 <a class=\"tocSkip\"></h2>\n",
    "   \n",
    "<b>На доработку🤔:</b> Справедлив тот же вопрос, что и выше. Плюс давай рассмотрим корреляции для остальных платформ, хорошо?"
   ]
  },
  {
   "cell_type": "markdown",
   "id": "95348885",
   "metadata": {},
   "source": [
    "<div class=\"alert alert-info\">\n",
    "<b> Переделел график с усами и добавил кореляцию по платформам</b> \n",
    "</div>"
   ]
  },
  {
   "cell_type": "markdown",
   "id": "d0aa140c",
   "metadata": {},
   "source": [
    "<div class=\"alert alert-block alert-danger\">\n",
    "<h2> Комментарий ревьюера v3 <a class=\"tocSkip\"></h2>\n",
    "   \n",
    "<b>На доработку🤔:</b> Еще раз обозначу, что в этом разделе у нас не фищки с усами, и адаграммы рассеивания. Давай еще построим диаграммы рассеивания для всех исследованных выше платформ. Получается, что для каждой платформы будет 2 диаграаммы: user_score - all_sales и critic_score - all_sales"
   ]
  },
  {
   "cell_type": "markdown",
   "id": "daee340f",
   "metadata": {},
   "source": [
    "<div class=\"alert alert-info\">\n",
    "<b> Построил диаграммы рассеевания для пользователей и критиков от продаж и добавил коэффициенты корреляции</b> \n",
    "</div>"
   ]
  },
  {
   "cell_type": "markdown",
   "id": "84e091f5",
   "metadata": {},
   "source": [
    "<div class=\"alert alert-success\">\n",
    "<h2> Комментарий ревьюера v4 <a class=\"tocSkip\"> </h2>\n",
    "\n",
    "<b>Все супер!👍:</b> Ага, молодец!"
   ]
  },
  {
   "cell_type": "markdown",
   "id": "d659ad88",
   "metadata": {},
   "source": [
    "### Распределение игр по жанрам"
   ]
  },
  {
   "cell_type": "code",
   "execution_count": 57,
   "id": "7d6adac7",
   "metadata": {},
   "outputs": [
    {
     "data": {
      "text/plain": [
       "12"
      ]
     },
     "execution_count": 57,
     "metadata": {},
     "output_type": "execute_result"
    }
   ],
   "source": [
    "len(period_actyal['genre'].unique()) # Всего жанров"
   ]
  },
  {
   "cell_type": "code",
   "execution_count": 58,
   "id": "125cc3f0",
   "metadata": {},
   "outputs": [],
   "source": [
    "# Строим похожую конструкцию для жанров\n",
    "\n",
    "top_genre_sales= period_actyal['genre'].value_counts().head(12)\n",
    "top_pgenre_sales_max = data.query(\n",
    "    'genre in (@top_genre_sales.index)').pivot_table(values='all_sales', index='genre', aggfunc = 'sum')\n",
    "top_genre = top_pgenre_sales_max.sort_values('all_sales', ascending=False)"
   ]
  },
  {
   "cell_type": "code",
   "execution_count": 59,
   "id": "a67de7e0",
   "metadata": {},
   "outputs": [
    {
     "data": {
      "text/html": [
       "<div>\n",
       "<style scoped>\n",
       "    .dataframe tbody tr th:only-of-type {\n",
       "        vertical-align: middle;\n",
       "    }\n",
       "\n",
       "    .dataframe tbody tr th {\n",
       "        vertical-align: top;\n",
       "    }\n",
       "\n",
       "    .dataframe thead th {\n",
       "        text-align: right;\n",
       "    }\n",
       "</style>\n",
       "<table border=\"1\" class=\"dataframe\">\n",
       "  <thead>\n",
       "    <tr style=\"text-align: right;\">\n",
       "      <th></th>\n",
       "      <th>genre</th>\n",
       "      <th>all_sales</th>\n",
       "    </tr>\n",
       "  </thead>\n",
       "  <tbody>\n",
       "    <tr>\n",
       "      <th>0</th>\n",
       "      <td>Action</td>\n",
       "      <td>1744.17</td>\n",
       "    </tr>\n",
       "    <tr>\n",
       "      <th>1</th>\n",
       "      <td>Sports</td>\n",
       "      <td>1331.27</td>\n",
       "    </tr>\n",
       "    <tr>\n",
       "      <th>2</th>\n",
       "      <td>Shooter</td>\n",
       "      <td>1052.45</td>\n",
       "    </tr>\n",
       "    <tr>\n",
       "      <th>3</th>\n",
       "      <td>Role-Playing</td>\n",
       "      <td>934.56</td>\n",
       "    </tr>\n",
       "    <tr>\n",
       "      <th>4</th>\n",
       "      <td>Platform</td>\n",
       "      <td>827.77</td>\n",
       "    </tr>\n",
       "    <tr>\n",
       "      <th>5</th>\n",
       "      <td>Misc</td>\n",
       "      <td>802.51</td>\n",
       "    </tr>\n",
       "    <tr>\n",
       "      <th>6</th>\n",
       "      <td>Racing</td>\n",
       "      <td>728.67</td>\n",
       "    </tr>\n",
       "    <tr>\n",
       "      <th>7</th>\n",
       "      <td>Fighting</td>\n",
       "      <td>447.53</td>\n",
       "    </tr>\n",
       "    <tr>\n",
       "      <th>8</th>\n",
       "      <td>Simulation</td>\n",
       "      <td>389.97</td>\n",
       "    </tr>\n",
       "    <tr>\n",
       "      <th>9</th>\n",
       "      <td>Puzzle</td>\n",
       "      <td>242.57</td>\n",
       "    </tr>\n",
       "    <tr>\n",
       "      <th>10</th>\n",
       "      <td>Adventure</td>\n",
       "      <td>237.59</td>\n",
       "    </tr>\n",
       "    <tr>\n",
       "      <th>11</th>\n",
       "      <td>Strategy</td>\n",
       "      <td>174.23</td>\n",
       "    </tr>\n",
       "  </tbody>\n",
       "</table>\n",
       "</div>"
      ],
      "text/plain": [
       "           genre  all_sales\n",
       "0         Action    1744.17\n",
       "1         Sports    1331.27\n",
       "2        Shooter    1052.45\n",
       "3   Role-Playing     934.56\n",
       "4       Platform     827.77\n",
       "5           Misc     802.51\n",
       "6         Racing     728.67\n",
       "7       Fighting     447.53\n",
       "8     Simulation     389.97\n",
       "9         Puzzle     242.57\n",
       "10     Adventure     237.59\n",
       "11      Strategy     174.23"
      ]
     },
     "execution_count": 59,
     "metadata": {},
     "output_type": "execute_result"
    }
   ],
   "source": [
    "top_genre_12 = top_genre.reset_index()\n",
    "top_genre_12"
   ]
  },
  {
   "cell_type": "code",
   "execution_count": 60,
   "id": "b54254ad",
   "metadata": {},
   "outputs": [
    {
     "data": {
      "image/png": "[encoded data removed]",
      "text/plain": [
       "<Figure size 432x288 with 1 Axes>"
      ]
     },
     "metadata": {},
     "output_type": "display_data"
    }
   ],
   "source": [
    "palette_color = seaborn.color_palette('bright')\n",
    "plt.pie(data = top_genre_12, x = 'all_sales', labels='genre', colors=palette_color, autopct='%.0f%%', radius =2)\n",
    "plt.show()"
   ]
  },
  {
   "cell_type": "markdown",
   "id": "2df436d1",
   "metadata": {},
   "source": [
    "*Половина всех жанров составляют 3 наиболее продаваемые акшены спорт и музыка замыкает список стратегии*"
   ]
  },
  {
   "cell_type": "markdown",
   "id": "b63ee404",
   "metadata": {},
   "source": [
    "<div style=\"border:solid blue 2px; padding: 20px\">\n",
    "ВЫВОД: Самый важный период это период расцева и кратковременного упадка игр с 1993 по сейчас на нем можно увидеть и рост интереса к данной отрасли и влияния внешних факторов. В среднем в течении 10 лет рождаются и умирают новые платформы в борьбе с Родителями отрасли плейстейшеном и пк. Оценки влияют, но не так сильно как скорее всего вляиют прочий факторы, но сбрасывать их со счетов нельзя так как они всеравно имееют влияние. 3 наиболее популярных жанра составляют больше половины всех продаж."
   ]
  },
  {
   "cell_type": "markdown",
   "id": "dd24dbe0",
   "metadata": {},
   "source": [
    "<div class=\"alert alert-warning\">\n",
    "    <h2> Комментарий ревьюера <a class=\"tocSkip\"> </h2>\n",
    "    \n",
    "<b>Небольшие замечания и рекомендации💡:</b> А давай медианы здесь еще посмотрим?"
   ]
  },
  {
   "cell_type": "markdown",
   "id": "7dba774f",
   "metadata": {},
   "source": [
    "## Портрет пользователя каждого региона\n"
   ]
  },
  {
   "cell_type": "markdown",
   "id": "a283cf06",
   "metadata": {},
   "source": [
    "### Топ 5 платформ"
   ]
  },
  {
   "cell_type": "markdown",
   "id": "c9a88581",
   "metadata": {},
   "source": [
    "**Северная Амерканские топ Платформ**"
   ]
  },
  {
   "cell_type": "code",
   "execution_count": 61,
   "id": "3ac1c7f5",
   "metadata": {},
   "outputs": [
    {
     "data": {
      "text/html": [
       "<div>\n",
       "<style scoped>\n",
       "    .dataframe tbody tr th:only-of-type {\n",
       "        vertical-align: middle;\n",
       "    }\n",
       "\n",
       "    .dataframe tbody tr th {\n",
       "        vertical-align: top;\n",
       "    }\n",
       "\n",
       "    .dataframe thead th {\n",
       "        text-align: right;\n",
       "    }\n",
       "</style>\n",
       "<table border=\"1\" class=\"dataframe\">\n",
       "  <thead>\n",
       "    <tr style=\"text-align: right;\">\n",
       "      <th></th>\n",
       "      <th>platform</th>\n",
       "      <th>na_sales</th>\n",
       "    </tr>\n",
       "  </thead>\n",
       "  <tbody>\n",
       "    <tr>\n",
       "      <th>0</th>\n",
       "      <td>PS4</td>\n",
       "      <td>98.61</td>\n",
       "    </tr>\n",
       "    <tr>\n",
       "      <th>1</th>\n",
       "      <td>XOne</td>\n",
       "      <td>81.27</td>\n",
       "    </tr>\n",
       "    <tr>\n",
       "      <th>2</th>\n",
       "      <td>3DS</td>\n",
       "      <td>22.64</td>\n",
       "    </tr>\n",
       "    <tr>\n",
       "      <th>3</th>\n",
       "      <td>PS3</td>\n",
       "      <td>22.05</td>\n",
       "    </tr>\n",
       "    <tr>\n",
       "      <th>4</th>\n",
       "      <td>PSV</td>\n",
       "      <td>2.52</td>\n",
       "    </tr>\n",
       "  </tbody>\n",
       "</table>\n",
       "</div>"
      ],
      "text/plain": [
       "  platform  na_sales\n",
       "0      PS4     98.61\n",
       "1     XOne     81.27\n",
       "2      3DS     22.64\n",
       "3      PS3     22.05\n",
       "4      PSV      2.52"
      ]
     },
     "execution_count": 61,
     "metadata": {},
     "output_type": "execute_result"
    }
   ],
   "source": [
    "top_na_sales = period_actyal['platform'].value_counts().head(5) # топ 10 платформ\n",
    "top_na_sales_platform = period_actyal.query(\n",
    "    'platform in (@top_na_sales.index)').pivot_table(values='na_sales', index='platform', aggfunc = 'sum')\n",
    "top_na = top_na_sales_platform.sort_values('na_sales', ascending=False)\n",
    "top_na_5 = top_na.reset_index()\n",
    "top_na_5"
   ]
  },
  {
   "cell_type": "code",
   "execution_count": 62,
   "id": "890033e4",
   "metadata": {},
   "outputs": [
    {
     "data": {
      "image/png": "[encoded data removed]",
      "text/plain": [
       "<Figure size 432x288 with 1 Axes>"
      ]
     },
     "metadata": {
      "needs_background": "light"
     },
     "output_type": "display_data"
    }
   ],
   "source": [
    "sns.barplot(data=top_na_5, x=\"platform\", y=\"na_sales\");\n",
    "plt.title('Топ 5 приставок в Северной Америке')\n",
    "plt.ylabel('Общее количество продажв Северной Америке')\n",
    "plt.xlabel('Платформа')\n",
    "plt.show()"
   ]
  },
  {
   "cell_type": "markdown",
   "id": "51d76f2a",
   "metadata": {},
   "source": [
    "**ПС4 созданная в 2013 (в инете посмотрел) вышла на свой пик проддаж к 2014-2016 годам и пойдет на спад дальше в правилах игры на этом рынке который мы заметилии ранее**"
   ]
  },
  {
   "cell_type": "markdown",
   "id": "a8243c06",
   "metadata": {},
   "source": [
    "**Европейские топ Платформ**"
   ]
  },
  {
   "cell_type": "code",
   "execution_count": 63,
   "id": "2299c4c5",
   "metadata": {},
   "outputs": [
    {
     "data": {
      "text/html": [
       "<div>\n",
       "<style scoped>\n",
       "    .dataframe tbody tr th:only-of-type {\n",
       "        vertical-align: middle;\n",
       "    }\n",
       "\n",
       "    .dataframe tbody tr th {\n",
       "        vertical-align: top;\n",
       "    }\n",
       "\n",
       "    .dataframe thead th {\n",
       "        text-align: right;\n",
       "    }\n",
       "</style>\n",
       "<table border=\"1\" class=\"dataframe\">\n",
       "  <thead>\n",
       "    <tr style=\"text-align: right;\">\n",
       "      <th></th>\n",
       "      <th>platform</th>\n",
       "      <th>eu_sales</th>\n",
       "    </tr>\n",
       "  </thead>\n",
       "  <tbody>\n",
       "    <tr>\n",
       "      <th>0</th>\n",
       "      <td>PS4</td>\n",
       "      <td>130.04</td>\n",
       "    </tr>\n",
       "    <tr>\n",
       "      <th>1</th>\n",
       "      <td>XOne</td>\n",
       "      <td>46.25</td>\n",
       "    </tr>\n",
       "    <tr>\n",
       "      <th>2</th>\n",
       "      <td>PS3</td>\n",
       "      <td>25.54</td>\n",
       "    </tr>\n",
       "    <tr>\n",
       "      <th>3</th>\n",
       "      <td>3DS</td>\n",
       "      <td>16.12</td>\n",
       "    </tr>\n",
       "    <tr>\n",
       "      <th>4</th>\n",
       "      <td>PSV</td>\n",
       "      <td>3.53</td>\n",
       "    </tr>\n",
       "  </tbody>\n",
       "</table>\n",
       "</div>"
      ],
      "text/plain": [
       "  platform  eu_sales\n",
       "0      PS4    130.04\n",
       "1     XOne     46.25\n",
       "2      PS3     25.54\n",
       "3      3DS     16.12\n",
       "4      PSV      3.53"
      ]
     },
     "execution_count": 63,
     "metadata": {},
     "output_type": "execute_result"
    }
   ],
   "source": [
    "top_eu_sales = period_actyal['platform'].value_counts().head(5) # топ 10 платформ\n",
    "top_eu_sales_platform = period_actyal.query(\n",
    "    'platform in (@top_eu_sales.index)').pivot_table(values='eu_sales', index='platform', aggfunc = 'sum')\n",
    "top_eu = top_eu_sales_platform.sort_values('eu_sales', ascending=False)\n",
    "top_eu_5 = top_eu.reset_index()\n",
    "top_eu_5"
   ]
  },
  {
   "cell_type": "code",
   "execution_count": 64,
   "id": "f92ee45f",
   "metadata": {},
   "outputs": [
    {
     "data": {
      "image/png": "[encoded data removed]",
      "text/plain": [
       "<Figure size 432x288 with 1 Axes>"
      ]
     },
     "metadata": {
      "needs_background": "light"
     },
     "output_type": "display_data"
    }
   ],
   "source": [
    "sns.barplot(data=top_eu_5, x=\"platform\", y=\"eu_sales\");\n",
    "plt.title('Топ 5 приставок в Европе')\n",
    "plt.ylabel('Общее количество продаж в Европе')\n",
    "plt.xlabel('Платформа')\n",
    "plt.show()"
   ]
  },
  {
   "cell_type": "markdown",
   "id": "a1498f5e",
   "metadata": {},
   "source": [
    "**В Европе топ остается тем же только с меньшим количеством и большим отставанием XONE, что говорит о неокой солидарности западного мира**"
   ]
  },
  {
   "cell_type": "markdown",
   "id": "23d2d000",
   "metadata": {},
   "source": [
    "**Японски топ Платформ**"
   ]
  },
  {
   "cell_type": "code",
   "execution_count": 65,
   "id": "cd5485e0",
   "metadata": {},
   "outputs": [
    {
     "data": {
      "text/html": [
       "<div>\n",
       "<style scoped>\n",
       "    .dataframe tbody tr th:only-of-type {\n",
       "        vertical-align: middle;\n",
       "    }\n",
       "\n",
       "    .dataframe tbody tr th {\n",
       "        vertical-align: top;\n",
       "    }\n",
       "\n",
       "    .dataframe thead th {\n",
       "        text-align: right;\n",
       "    }\n",
       "</style>\n",
       "<table border=\"1\" class=\"dataframe\">\n",
       "  <thead>\n",
       "    <tr style=\"text-align: right;\">\n",
       "      <th></th>\n",
       "      <th>platform</th>\n",
       "      <th>jp_sales</th>\n",
       "    </tr>\n",
       "  </thead>\n",
       "  <tbody>\n",
       "    <tr>\n",
       "      <th>0</th>\n",
       "      <td>3DS</td>\n",
       "      <td>44.24</td>\n",
       "    </tr>\n",
       "    <tr>\n",
       "      <th>1</th>\n",
       "      <td>PS4</td>\n",
       "      <td>15.02</td>\n",
       "    </tr>\n",
       "    <tr>\n",
       "      <th>2</th>\n",
       "      <td>PSV</td>\n",
       "      <td>14.54</td>\n",
       "    </tr>\n",
       "    <tr>\n",
       "      <th>3</th>\n",
       "      <td>PS3</td>\n",
       "      <td>11.22</td>\n",
       "    </tr>\n",
       "    <tr>\n",
       "      <th>4</th>\n",
       "      <td>XOne</td>\n",
       "      <td>0.32</td>\n",
       "    </tr>\n",
       "  </tbody>\n",
       "</table>\n",
       "</div>"
      ],
      "text/plain": [
       "  platform  jp_sales\n",
       "0      3DS     44.24\n",
       "1      PS4     15.02\n",
       "2      PSV     14.54\n",
       "3      PS3     11.22\n",
       "4     XOne      0.32"
      ]
     },
     "execution_count": 65,
     "metadata": {},
     "output_type": "execute_result"
    }
   ],
   "source": [
    "top_jp_sales = period_actyal['platform'].value_counts().head(5) # топ 10 платформ\n",
    "top_jp_sales_platform = period_actyal.query(\n",
    "    'platform in (@top_jp_sales.index)').pivot_table(values='jp_sales', index='platform', aggfunc = 'sum')\n",
    "top_jp = top_jp_sales_platform.sort_values('jp_sales', ascending=False)\n",
    "top_jp_5 = top_jp.reset_index()\n",
    "top_jp_5"
   ]
  },
  {
   "cell_type": "code",
   "execution_count": 66,
   "id": "b1aa79e9",
   "metadata": {},
   "outputs": [
    {
     "data": {
      "image/png": "[encoded data removed]",
      "text/plain": [
       "<Figure size 432x288 with 1 Axes>"
      ]
     },
     "metadata": {
      "needs_background": "light"
     },
     "output_type": "display_data"
    }
   ],
   "source": [
    "sns.barplot(data=top_jp_5, x=\"platform\", y=\"jp_sales\");\n",
    "plt.title('Топ 5 приставок в Японии')\n",
    "plt.ylabel('Общее количество продаж в Японии')\n",
    "plt.xlabel('Платформа')\n",
    "plt.show()"
   ]
  },
  {
   "cell_type": "markdown",
   "id": "6f25f580",
   "metadata": {},
   "source": [
    "**В Японии нинтендо 3DS вырывается уверено в лидеры, возможно там ее и придумали для локального рынка, визуально уступающего в количестве продаж**"
   ]
  },
  {
   "cell_type": "markdown",
   "id": "40f6ab02",
   "metadata": {},
   "source": [
    "<div class=\"alert alert-success\">\n",
    "<h2> Комментарий ревьюера v2 <a class=\"tocSkip\"> </h2>\n",
    "\n",
    "<b>Все супер!👍:</b> Верно!"
   ]
  },
  {
   "cell_type": "markdown",
   "id": "43763998",
   "metadata": {},
   "source": [
    "### Топ 5 Жанров"
   ]
  },
  {
   "cell_type": "markdown",
   "id": "752356e0",
   "metadata": {},
   "source": [
    "**Северная Америка и жанры Игр**"
   ]
  },
  {
   "cell_type": "code",
   "execution_count": 67,
   "id": "65066ca5",
   "metadata": {},
   "outputs": [
    {
     "data": {
      "text/html": [
       "<div>\n",
       "<style scoped>\n",
       "    .dataframe tbody tr th:only-of-type {\n",
       "        vertical-align: middle;\n",
       "    }\n",
       "\n",
       "    .dataframe tbody tr th {\n",
       "        vertical-align: top;\n",
       "    }\n",
       "\n",
       "    .dataframe thead th {\n",
       "        text-align: right;\n",
       "    }\n",
       "</style>\n",
       "<table border=\"1\" class=\"dataframe\">\n",
       "  <thead>\n",
       "    <tr style=\"text-align: right;\">\n",
       "      <th></th>\n",
       "      <th>genre</th>\n",
       "      <th>na_sales</th>\n",
       "    </tr>\n",
       "  </thead>\n",
       "  <tbody>\n",
       "    <tr>\n",
       "      <th>0</th>\n",
       "      <td>Shooter</td>\n",
       "      <td>79.02</td>\n",
       "    </tr>\n",
       "    <tr>\n",
       "      <th>1</th>\n",
       "      <td>Action</td>\n",
       "      <td>72.53</td>\n",
       "    </tr>\n",
       "    <tr>\n",
       "      <th>2</th>\n",
       "      <td>Sports</td>\n",
       "      <td>46.13</td>\n",
       "    </tr>\n",
       "    <tr>\n",
       "      <th>3</th>\n",
       "      <td>Role-Playing</td>\n",
       "      <td>33.47</td>\n",
       "    </tr>\n",
       "    <tr>\n",
       "      <th>4</th>\n",
       "      <td>Adventure</td>\n",
       "      <td>5.64</td>\n",
       "    </tr>\n",
       "  </tbody>\n",
       "</table>\n",
       "</div>"
      ],
      "text/plain": [
       "          genre  na_sales\n",
       "0       Shooter     79.02\n",
       "1        Action     72.53\n",
       "2        Sports     46.13\n",
       "3  Role-Playing     33.47\n",
       "4     Adventure      5.64"
      ]
     },
     "execution_count": 67,
     "metadata": {},
     "output_type": "execute_result"
    }
   ],
   "source": [
    "top_genre_na_sales= period_actyal['genre'].value_counts().head(5)\n",
    "top_pgenre_na_sales= period_actyal.query(\n",
    "    'genre in (@top_genre_na_sales.index)').pivot_table(values='na_sales', index='genre', aggfunc = 'sum')\n",
    "top_genre_na_sales = top_pgenre_na_sales.sort_values('na_sales', ascending=False)\n",
    "top_na_sales = top_genre_na_sales.reset_index()\n",
    "top_na_sales"
   ]
  },
  {
   "cell_type": "code",
   "execution_count": 68,
   "id": "888c554e",
   "metadata": {},
   "outputs": [
    {
     "data": {
      "image/png": "[encoded data removed]",
      "text/plain": [
       "<Figure size 432x288 with 1 Axes>"
      ]
     },
     "metadata": {},
     "output_type": "display_data"
    }
   ],
   "source": [
    "palette_color = seaborn.color_palette('bright')\n",
    "plt.pie(data = top_na_sales, x = 'na_sales', labels='genre', colors=palette_color, autopct='%.0f%%', radius =2)\n",
    "plt.show()"
   ]
  },
  {
   "cell_type": "markdown",
   "id": "5b995e14",
   "metadata": {},
   "source": [
    "**В америке любовь к оружию выражается не только возможностью его ношения но и в компьютерных играх**"
   ]
  },
  {
   "cell_type": "markdown",
   "id": "63498c75",
   "metadata": {},
   "source": [
    "**Европа**"
   ]
  },
  {
   "cell_type": "code",
   "execution_count": 69,
   "id": "0d00792d",
   "metadata": {},
   "outputs": [
    {
     "data": {
      "text/html": [
       "<div>\n",
       "<style scoped>\n",
       "    .dataframe tbody tr th:only-of-type {\n",
       "        vertical-align: middle;\n",
       "    }\n",
       "\n",
       "    .dataframe tbody tr th {\n",
       "        vertical-align: top;\n",
       "    }\n",
       "\n",
       "    .dataframe thead th {\n",
       "        text-align: right;\n",
       "    }\n",
       "</style>\n",
       "<table border=\"1\" class=\"dataframe\">\n",
       "  <thead>\n",
       "    <tr style=\"text-align: right;\">\n",
       "      <th></th>\n",
       "      <th>genre</th>\n",
       "      <th>eu_sales</th>\n",
       "    </tr>\n",
       "  </thead>\n",
       "  <tbody>\n",
       "    <tr>\n",
       "      <th>0</th>\n",
       "      <td>Action</td>\n",
       "      <td>74.68</td>\n",
       "    </tr>\n",
       "    <tr>\n",
       "      <th>1</th>\n",
       "      <td>Shooter</td>\n",
       "      <td>65.52</td>\n",
       "    </tr>\n",
       "    <tr>\n",
       "      <th>2</th>\n",
       "      <td>Sports</td>\n",
       "      <td>45.73</td>\n",
       "    </tr>\n",
       "    <tr>\n",
       "      <th>3</th>\n",
       "      <td>Role-Playing</td>\n",
       "      <td>28.17</td>\n",
       "    </tr>\n",
       "    <tr>\n",
       "      <th>4</th>\n",
       "      <td>Adventure</td>\n",
       "      <td>6.49</td>\n",
       "    </tr>\n",
       "  </tbody>\n",
       "</table>\n",
       "</div>"
      ],
      "text/plain": [
       "          genre  eu_sales\n",
       "0        Action     74.68\n",
       "1       Shooter     65.52\n",
       "2        Sports     45.73\n",
       "3  Role-Playing     28.17\n",
       "4     Adventure      6.49"
      ]
     },
     "execution_count": 69,
     "metadata": {},
     "output_type": "execute_result"
    }
   ],
   "source": [
    "top_genre_eu_sales= period_actyal['genre'].value_counts().head(5)\n",
    "top_pgenre_eu_sales= period_actyal.query(\n",
    "    'genre in (@top_genre_eu_sales.index)').pivot_table(values='eu_sales', index='genre', aggfunc = 'sum')\n",
    "top_genre_eu_sales = top_pgenre_eu_sales.sort_values('eu_sales', ascending=False)\n",
    "top_eu_sales = top_genre_eu_sales.reset_index()\n",
    "top_eu_sales"
   ]
  },
  {
   "cell_type": "code",
   "execution_count": 70,
   "id": "378669d2",
   "metadata": {},
   "outputs": [
    {
     "data": {
      "image/png": "[encoded data removed]",
      "text/plain": [
       "<Figure size 432x288 with 1 Axes>"
      ]
     },
     "metadata": {},
     "output_type": "display_data"
    }
   ],
   "source": [
    "palette_color = seaborn.color_palette('bright')\n",
    "plt.pie(data = top_eu_sales, x = 'eu_sales', labels='genre', colors=palette_color, autopct='%.0f%%', radius =2)\n",
    "plt.show()"
   ]
  },
  {
   "cell_type": "markdown",
   "id": "3d31b993",
   "metadata": {},
   "source": [
    "**Европейский потребитель оказался любетелм экшен жанров, но и влияние шутингов так же велико**"
   ]
  },
  {
   "cell_type": "markdown",
   "id": "5d90bce5",
   "metadata": {},
   "source": [
    "**Япония**"
   ]
  },
  {
   "cell_type": "code",
   "execution_count": 71,
   "id": "07d8f1e9",
   "metadata": {},
   "outputs": [
    {
     "data": {
      "text/html": [
       "<div>\n",
       "<style scoped>\n",
       "    .dataframe tbody tr th:only-of-type {\n",
       "        vertical-align: middle;\n",
       "    }\n",
       "\n",
       "    .dataframe tbody tr th {\n",
       "        vertical-align: top;\n",
       "    }\n",
       "\n",
       "    .dataframe thead th {\n",
       "        text-align: right;\n",
       "    }\n",
       "</style>\n",
       "<table border=\"1\" class=\"dataframe\">\n",
       "  <thead>\n",
       "    <tr style=\"text-align: right;\">\n",
       "      <th></th>\n",
       "      <th>genre</th>\n",
       "      <th>jp_sales</th>\n",
       "    </tr>\n",
       "  </thead>\n",
       "  <tbody>\n",
       "    <tr>\n",
       "      <th>0</th>\n",
       "      <td>Role-Playing</td>\n",
       "      <td>31.16</td>\n",
       "    </tr>\n",
       "    <tr>\n",
       "      <th>1</th>\n",
       "      <td>Action</td>\n",
       "      <td>29.58</td>\n",
       "    </tr>\n",
       "    <tr>\n",
       "      <th>2</th>\n",
       "      <td>Shooter</td>\n",
       "      <td>4.87</td>\n",
       "    </tr>\n",
       "    <tr>\n",
       "      <th>3</th>\n",
       "      <td>Adventure</td>\n",
       "      <td>3.60</td>\n",
       "    </tr>\n",
       "    <tr>\n",
       "      <th>4</th>\n",
       "      <td>Sports</td>\n",
       "      <td>3.26</td>\n",
       "    </tr>\n",
       "  </tbody>\n",
       "</table>\n",
       "</div>"
      ],
      "text/plain": [
       "          genre  jp_sales\n",
       "0  Role-Playing     31.16\n",
       "1        Action     29.58\n",
       "2       Shooter      4.87\n",
       "3     Adventure      3.60\n",
       "4        Sports      3.26"
      ]
     },
     "execution_count": 71,
     "metadata": {},
     "output_type": "execute_result"
    }
   ],
   "source": [
    "top_genre_jp_sales= period_actyal['genre'].value_counts().head(5)\n",
    "top_pgenre_jp_sales= period_actyal.query(\n",
    "    'genre in (@top_genre_jp_sales.index)').pivot_table(values='jp_sales', index='genre', aggfunc = 'sum')\n",
    "top_genre_jp_sales = top_pgenre_jp_sales.sort_values('jp_sales', ascending=False)\n",
    "top_jp_sales = top_genre_jp_sales.reset_index()\n",
    "top_jp_sales"
   ]
  },
  {
   "cell_type": "code",
   "execution_count": 72,
   "id": "23059fc1",
   "metadata": {},
   "outputs": [
    {
     "data": {
      "image/png": "[encoded data removed]",
      "text/plain": [
       "<Figure size 432x288 with 1 Axes>"
      ]
     },
     "metadata": {},
     "output_type": "display_data"
    }
   ],
   "source": [
    "palette_color = seaborn.color_palette('bright')\n",
    "plt.pie(data = top_jp_sales, x = 'jp_sales', labels='genre', colors=palette_color, autopct='%.0f%%', radius =2)\n",
    "plt.show()"
   ]
  },
  {
   "cell_type": "markdown",
   "id": "8602062a",
   "metadata": {},
   "source": [
    "**В Японии же распределение по жанрам совершенно иное и на первое место выходит Ролевые игры а экшен уходит на 2ое сето**"
   ]
  },
  {
   "cell_type": "markdown",
   "id": "edb7356f",
   "metadata": {},
   "source": [
    "<div class=\"alert alert-success\">\n",
    "<h2> Комментарий ревьюера v2 <a class=\"tocSkip\"> </h2>\n",
    "\n",
    "<b>Все супер!👍:</b> Правильно"
   ]
  },
  {
   "cell_type": "markdown",
   "id": "ede1030a",
   "metadata": {},
   "source": [
    "### Влияние рейтинга ESRB на продажи"
   ]
  },
  {
   "cell_type": "code",
   "execution_count": 73,
   "id": "cc6518d2",
   "metadata": {},
   "outputs": [
    {
     "data": {
      "text/plain": [
       "[nan, 'M', 'E', 'T', 'E10+']"
      ]
     },
     "execution_count": 73,
     "metadata": {},
     "output_type": "execute_result"
    }
   ],
   "source": [
    "list(period_actyal['rating'].unique())"
   ]
  },
  {
   "cell_type": "code",
   "execution_count": 74,
   "id": "375eb4c0",
   "metadata": {},
   "outputs": [
    {
     "data": {
      "text/html": [
       "<div>\n",
       "<style scoped>\n",
       "    .dataframe tbody tr th:only-of-type {\n",
       "        vertical-align: middle;\n",
       "    }\n",
       "\n",
       "    .dataframe tbody tr th {\n",
       "        vertical-align: top;\n",
       "    }\n",
       "\n",
       "    .dataframe thead th {\n",
       "        text-align: right;\n",
       "    }\n",
       "</style>\n",
       "<table border=\"1\" class=\"dataframe\">\n",
       "  <thead>\n",
       "    <tr style=\"text-align: right;\">\n",
       "      <th></th>\n",
       "      <th>eu_sales</th>\n",
       "      <th>jp_sales</th>\n",
       "      <th>na_sales</th>\n",
       "    </tr>\n",
       "    <tr>\n",
       "      <th>rating</th>\n",
       "      <th></th>\n",
       "      <th></th>\n",
       "      <th></th>\n",
       "    </tr>\n",
       "  </thead>\n",
       "  <tbody>\n",
       "    <tr>\n",
       "      <th>E</th>\n",
       "      <td>58.06</td>\n",
       "      <td>8.94</td>\n",
       "      <td>50.74</td>\n",
       "    </tr>\n",
       "    <tr>\n",
       "      <th>E10+</th>\n",
       "      <td>26.16</td>\n",
       "      <td>4.46</td>\n",
       "      <td>33.23</td>\n",
       "    </tr>\n",
       "    <tr>\n",
       "      <th>M</th>\n",
       "      <td>93.44</td>\n",
       "      <td>8.01</td>\n",
       "      <td>96.42</td>\n",
       "    </tr>\n",
       "    <tr>\n",
       "      <th>T</th>\n",
       "      <td>34.07</td>\n",
       "      <td>14.78</td>\n",
       "      <td>38.95</td>\n",
       "    </tr>\n",
       "  </tbody>\n",
       "</table>\n",
       "</div>"
      ],
      "text/plain": [
       "        eu_sales  jp_sales  na_sales\n",
       "rating                              \n",
       "E          58.06      8.94     50.74\n",
       "E10+       26.16      4.46     33.23\n",
       "M          93.44      8.01     96.42\n",
       "T          34.07     14.78     38.95"
      ]
     },
     "execution_count": 74,
     "metadata": {},
     "output_type": "execute_result"
    }
   ],
   "source": [
    "# Группируем рейтинг в таблицу с продажами по регионам, возьмем медианные значения\n",
    "\n",
    "ESRB_rating = period_actyal.pivot_table(index = 'rating', values = ['na_sales','eu_sales','jp_sales'], aggfunc = 'sum')\n",
    "ESRB_rating"
   ]
  },
  {
   "cell_type": "code",
   "execution_count": 75,
   "id": "a7ca8a9f",
   "metadata": {},
   "outputs": [
    {
     "data": {
      "image/png": "[encoded data removed]",
      "text/plain": [
       "<Figure size 360x360 with 1 Axes>"
      ]
     },
     "metadata": {
      "needs_background": "light"
     },
     "output_type": "display_data"
    }
   ],
   "source": [
    "ESRB_rating.plot(kind = 'bar', figsize=(5,5));\n",
    "plt.title('Влияние рейтинга')\n",
    "plt.ylabel('Сумма продаж')\n",
    "plt.xlabel('Оценка')\n",
    "plt.show()"
   ]
  },
  {
   "cell_type": "markdown",
   "id": "f138188f",
   "metadata": {},
   "source": [
    "**Из таблицы и графика явно видно что в играх категории Е больший показатель у Европы в остальных параметрах америка обгоняет**"
   ]
  },
  {
   "cell_type": "markdown",
   "id": "a56d098f",
   "metadata": {},
   "source": [
    "<div style=\"border:solid blue 2px; padding: 20px\">\n",
    "ВЫВОД: регионы Европы и Северной Америке в целом Монотонны не считая разница в рейтенге шутинга, Японский же рынок сильно отличается как в Жанрах так и в Платформах и допустимости рейтинговых ограничений"
   ]
  },
  {
   "cell_type": "markdown",
   "id": "b324308f",
   "metadata": {},
   "source": [
    "<div class=\"alert alert-info\">\n",
    "<b> Период расчетов показателей заменен</b> \n",
    "</div>"
   ]
  },
  {
   "cell_type": "markdown",
   "id": "b8509aaf",
   "metadata": {},
   "source": [
    "<div class=\"alert alert-block alert-danger\">\n",
    "<h2> Комментарий ревьюера <a class=\"tocSkip\"></h2>\n",
    "\n",
    "<b>На доработку🤔:</b>  Исправим актуальный период и вернемся к проверке этого раздела\n",
    "    "
   ]
  },
  {
   "cell_type": "markdown",
   "id": "0f500a25",
   "metadata": {},
   "source": [
    "<div class=\"alert alert-warning\">\n",
    "    <h2> Комментарий ревьюера v2 <a class=\"tocSkip\"> </h2>\n",
    "    \n",
    "<b>Небольшие замечания и рекомендации💡:</b> Хорошо! Еще бы хаглушку ввести в ретйинги)"
   ]
  },
  {
   "cell_type": "markdown",
   "id": "b3d6347c",
   "metadata": {},
   "source": [
    "## Проверка гипотез"
   ]
  },
  {
   "cell_type": "markdown",
   "id": "dfdbff0d",
   "metadata": {},
   "source": [
    "### Средние пользовательские рейтинги платформ Xbox One и PC одинаковые"
   ]
  },
  {
   "cell_type": "markdown",
   "id": "64fb235b",
   "metadata": {},
   "source": [
    "<div class=\"alert alert-block alert-danger\">\n",
    "<h2> Комментарий ревьюера <a class=\"tocSkip\"></h2>\n",
    "\n",
    "<b>На доработку🤔:</b>  Давай все же гипотезы сформулируем?"
   ]
  },
  {
   "cell_type": "markdown",
   "id": "001b6f10",
   "metadata": {},
   "source": [
    "<div class=\"alert alert-info\">\n",
    "<b> Формулировка нулевой и альтернативной гипотезы -\n",
    "H0: рейтинги одинаковые\n",
    "H1: рейтинги разные</b> \n",
    "</div>"
   ]
  },
  {
   "cell_type": "markdown",
   "id": "06ba76c7",
   "metadata": {},
   "source": [
    "<div class=\"alert alert-success\">\n",
    "<h2> Комментарий ревьюера v2 <a class=\"tocSkip\"> </h2>\n",
    "\n",
    "<b>Все супер!👍:</b> Гипотезы сформулирвоаны верно"
   ]
  },
  {
   "cell_type": "code",
   "execution_count": 76,
   "id": "d2c0da82",
   "metadata": {},
   "outputs": [
    {
     "data": {
      "text/plain": [
       "['PS4', 'WiiU', 'XOne', 'PS3', 'X360', '3DS', 'PC', 'Wii', 'PSV']"
      ]
     },
     "execution_count": 76,
     "metadata": {},
     "output_type": "execute_result"
    }
   ],
   "source": [
    "period_actyal = period_actyal.dropna(subset = ['user_score']) # удаляем пропуски так как с ними не работает дальнейшие пвчисления\n",
    "list(period_actyal['platform'].unique())"
   ]
  },
  {
   "cell_type": "code",
   "execution_count": 77,
   "id": "b23d29ba",
   "metadata": {},
   "outputs": [
    {
     "name": "stdout",
     "output_type": "stream",
     "text": [
      "p-значение: 0.10450507919348415\n",
      "Не получилось отвергнуть нулевую гипотезу\n"
     ]
    }
   ],
   "source": [
    "\n",
    "XOne_new = period_actyal.query(\"platform == 'XOne' & user_score >0\")['user_score']\n",
    "PC_new = period_actyal.query(\"platform == 'PC' & user_score >0\")['user_score']\n",
    "\n",
    "alpha = .05 # критический уровень статистической значимости\n",
    "# если p-value окажется меньше него - отвергнем гипотезу\n",
    "\n",
    "results = st.ttest_ind(\n",
    "    XOne_new, \n",
    "    PC_new )\n",
    "\n",
    "print('p-значение:', results.pvalue)\n",
    "\n",
    "if results.pvalue < alpha:\n",
    "    print(\"Отвергаем нулевую гипотезу\")\n",
    "else:\n",
    "    print(\"Не получилось отвергнуть нулевую гипотезу\") "
   ]
  },
  {
   "cell_type": "code",
   "execution_count": 78,
   "id": "126d57f6",
   "metadata": {},
   "outputs": [
    {
     "name": "stdout",
     "output_type": "stream",
     "text": [
      "6.594545454545456\n",
      "6.298360655737705\n"
     ]
    }
   ],
   "source": [
    "print(XOne_new.mean())\n",
    "print(PC_new.mean())"
   ]
  },
  {
   "cell_type": "markdown",
   "id": "e3810295",
   "metadata": {},
   "source": [
    "<div class=\"alert alert-block alert-danger\">\n",
    "<h2> Комментарий ревьюера <a class=\"tocSkip\"></h2>\n",
    "\n",
    "<b>На доработку🤔:</b>  Так все же XOne или Х360?"
   ]
  },
  {
   "cell_type": "markdown",
   "id": "d5d1a122",
   "metadata": {},
   "source": [
    "<div class=\"alert alert-success\">\n",
    "<h2> Комментарий ревьюера v2 <a class=\"tocSkip\"> </h2>\n",
    "\n",
    "<b>Все супер!👍:</b> Исправлено!"
   ]
  },
  {
   "cell_type": "markdown",
   "id": "dfdd04c3",
   "metadata": {},
   "source": [
    "### Средние пользовательские рейтинги жанров Action и Sports  разные"
   ]
  },
  {
   "cell_type": "markdown",
   "id": "1d63d976",
   "metadata": {},
   "source": [
    "<div class=\"alert alert-block alert-danger\">\n",
    "<h2> Комментарий ревьюера <a class=\"tocSkip\"></h2>\n",
    "\n",
    "<b>На доработку🤔:</b> Опять же давай сформулируем гипотезы\n",
    "    "
   ]
  },
  {
   "cell_type": "markdown",
   "id": "fb7c256e",
   "metadata": {},
   "source": [
    "<div class=\"alert alert-info\">\n",
    "<b> Формулировка нулевой и альтернативной гипотезы -\n",
    "H0: рейтинги одинаковые\n",
    "H1: рейтинги разные</b> \n",
    "</div>"
   ]
  },
  {
   "cell_type": "markdown",
   "id": "5cfb3497",
   "metadata": {},
   "source": [
    "<div class=\"alert alert-success\">\n",
    "<h2> Комментарий ревьюера v2 <a class=\"tocSkip\"> </h2>\n",
    "\n",
    "<b>Все супер!👍:</b> Гипотезы сформулирвоаны правильно)"
   ]
  },
  {
   "cell_type": "code",
   "execution_count": 79,
   "id": "888f67b6",
   "metadata": {},
   "outputs": [
    {
     "data": {
      "text/plain": [
       "['Sports',\n",
       " 'Platform',\n",
       " 'Racing',\n",
       " 'Role-Playing',\n",
       " 'Puzzle',\n",
       " 'Misc',\n",
       " 'Shooter',\n",
       " 'Simulation',\n",
       " 'Action',\n",
       " 'Fighting',\n",
       " 'Adventure',\n",
       " 'Strategy']"
      ]
     },
     "execution_count": 79,
     "metadata": {},
     "output_type": "execute_result"
    }
   ],
   "source": [
    "period_actyal = data.dropna(subset = ['user_score']) # удаляем пропуски так как с ними не работает дальнейшие пвчисления\n",
    "list(data['genre'].unique())"
   ]
  },
  {
   "cell_type": "code",
   "execution_count": 80,
   "id": "be37486b",
   "metadata": {},
   "outputs": [
    {
     "name": "stdout",
     "output_type": "stream",
     "text": [
      "p-значение: nan\n",
      "Не получилось отвергнуть нулевую гипотезу\n"
     ]
    }
   ],
   "source": [
    "\n",
    "action_new= data[data['genre'] == 'Action']\n",
    "action_new_user_score = action_new['user_score']\n",
    "\n",
    "sport_new= data[data['genre'] == 'Sports']\n",
    "sport_new_user_score = sport_new['user_score']\n",
    "\n",
    "alpha = .05 # критический уровень статистической значимости\n",
    "# если p-value окажется меньше него - отвергнем гипотезу\n",
    "\n",
    "results = st.ttest_ind(\n",
    "    action_new_user_score, \n",
    "    sport_new_user_score)\n",
    "\n",
    "print('p-значение:', results.pvalue)\n",
    "\n",
    "if results.pvalue < alpha:\n",
    "    print(\"Отвергаем нулевую гипотезу\")\n",
    "else:\n",
    "    print(\"Не получилось отвергнуть нулевую гипотезу\") "
   ]
  },
  {
   "cell_type": "code",
   "execution_count": 81,
   "id": "e538cafb",
   "metadata": {},
   "outputs": [
    {
     "name": "stdout",
     "output_type": "stream",
     "text": [
      "7.054043715846995\n",
      "6.96119673617407\n"
     ]
    }
   ],
   "source": [
    "print(action_new_user_score.mean())\n",
    "print(sport_new_user_score.mean())"
   ]
  },
  {
   "cell_type": "markdown",
   "id": "b0d2d786",
   "metadata": {},
   "source": [
    "<div style=\"border:solid blue 2px; padding: 20px\">\n",
    "ВЫВОД:\n",
    "мы применили этот метод потому что выборочные средние нормально распределены.\n",
    "\n",
    "\n",
    "Формулировка нулевой и альтернативной гипотезы -    \n",
    "H0: рейтинги одинаковые    \n",
    "H1: рейтинги разные\n",
    "    "
   ]
  },
  {
   "cell_type": "code",
   "execution_count": 82,
   "id": "c10f4819",
   "metadata": {},
   "outputs": [
    {
     "data": {
      "text/plain": [
       "count    7590.000000\n",
       "mean        7.125046\n",
       "std         1.500006\n",
       "min         0.000000\n",
       "25%         6.400000\n",
       "50%         7.500000\n",
       "75%         8.200000\n",
       "max         9.700000\n",
       "Name: user_score, dtype: float64"
      ]
     },
     "execution_count": 82,
     "metadata": {},
     "output_type": "execute_result"
    }
   ],
   "source": [
    "data['user_score'].describe()"
   ]
  },
  {
   "cell_type": "markdown",
   "id": "63b6f742",
   "metadata": {},
   "source": [
    "<div class=\"alert alert-block alert-danger\">\n",
    "<h2> Комментарий ревьюера <a class=\"tocSkip\"></h2>\n",
    "\n",
    "<b>На доработку🤔:</b> Ага, а вот и формулирование гипотез) Давай перенесем перед проверкой гипотез, а также перерабоатем этот раздел по новому актуальному периоду"
   ]
  },
  {
   "cell_type": "markdown",
   "id": "01e983b0",
   "metadata": {},
   "source": [
    "<div class=\"alert alert-block alert-danger\">\n",
    "<h2> Комментарий ревьюера v2 <a class=\"tocSkip\"></h2>\n",
    "   \n",
    "<b>На доработку🤔:</b> Давай еще оценки выведем средние, хорошо?"
   ]
  },
  {
   "cell_type": "markdown",
   "id": "4ddb2ece",
   "metadata": {},
   "source": [
    "<div class=\"alert alert-info\">\n",
    "<b> Добавил среднее теории отвергнуты</b> \n",
    "</div>"
   ]
  },
  {
   "cell_type": "markdown",
   "id": "e837d73f",
   "metadata": {},
   "source": [
    "<div class=\"alert alert-success\">\n",
    "<h2> Комментарий ревьюера v3 <a class=\"tocSkip\"> </h2>\n",
    "\n",
    "<b>Все супер!👍:</b> Хорошо\n",
    "    "
   ]
  },
  {
   "cell_type": "markdown",
   "id": "734a3088",
   "metadata": {},
   "source": [
    "## Общий вывод"
   ]
  },
  {
   "cell_type": "markdown",
   "id": "9f1921db",
   "metadata": {},
   "source": [
    "<div style=\"border:solid blue 2px; padding: 20px\">\n",
    "ВЫВОД: изучены данные и произведены небходимые преобразования, добавлен столбец суммарынх продаж по которму слделаны многие выводы в дальнейшем исследовании. Посчитано и визуально представлено количество игр и их жизненый цикл как по жанрам так и по платформам, исследованы корреляции с отзывами и продажами в заных регионах, рассмотрено влияние рейтинга в регионах и не приняты 2 поставленные гипотезы."
   ]
  },
  {
   "cell_type": "markdown",
   "id": "437e4092",
   "metadata": {},
   "source": [
    "<div class=\"alert alert-block alert-danger\">\n",
    "<h2> Комментарий ревьюера <a class=\"tocSkip\"></h2>\n",
    "\n",
    "<b>На доработку🤔:</b>  Исправим ошибки выше и доработаем итоговый вывод"
   ]
  },
  {
   "cell_type": "markdown",
   "id": "52c8d1c6",
   "metadata": {},
   "source": [
    "<div class=\"alert alert-warning\">\n",
    "    <h2> Комментарий ревьюера v4 <a class=\"tocSkip\"> </h2>\n",
    "    \n",
    "<b>Небольшие замечания и рекомендации💡:</b> Вывод не забудь доработать п омотвиам испралвений выше"
   ]
  },
  {
   "cell_type": "markdown",
   "id": "614ac353",
   "metadata": {},
   "source": [
    "<div style=\"border:solid Chocolate 2px; padding: 40px\">\n",
    "    \n",
    "**Общий вывод по проекту ревьювера**:\n",
    " Александр, спасибо за  проект! Ты приложил много усилий, чтобы довести его до конца, проделана огромная работа, и это видно невооруженным глазом, ты большой молодец!\n",
    "    \n",
    "**Отмечу положительные моменты**:\n",
    "    \n",
    "    1. Все разложено по полочкам, всегда понятен ход твоих мыслей, приятно смотреть\n",
    "    \n",
    "    2. Отличные визуализации\n",
    "    \n",
    "    2. На разных шагах проекта ты предлагал очень интересные решения и методы для их реализации. Хорошая работа!\n",
    "    \n",
    "    \n",
    "**На что стоит обратить внимание**:\n",
    "    \n",
    "    1. Актуальный период определен неверно, что повлекло ошибки в следующих разделах\n",
    "\n",
    "    2. Боксплоты построены не совсем так, как нужно\n",
    "\n",
    "    3. Не рассмотрены графики рассеивания для оценок пользователей\n",
    "\n",
    "    4. Ошибки в проверке гипотез\n",
    "    \n",
    "    \n",
    "**Удачи и жду твой проект на повторное ревью!**"
   ]
  },
  {
   "cell_type": "markdown",
   "id": "af8444cd",
   "metadata": {},
   "source": [
    "<div style=\"border:solid Chocolate 2px; padding: 40px\">\n",
    "    \n",
    "**Общий вывод по проекту ревьювера v2**:\n",
    " Александр, часть ошибок исправлена, но пока не все. Мы на верном пути, увидимся на следующей итерации. Ты молодец!"
   ]
  },
  {
   "cell_type": "markdown",
   "id": "752c9e63",
   "metadata": {},
   "source": [
    "<div style=\"border:solid Chocolate 2px; padding: 40px\">\n",
    "    \n",
    "**Общий вывод по проекту ревьювера v3**:\n",
    " Александр, хорошая работа на этой итерации, молодец, но не везде исправлены выводы и все еще есть ошибки в раьоте с исследованием завиисмости цены от ретйингов"
   ]
  },
  {
   "cell_type": "markdown",
   "id": "e81f246d",
   "metadata": {},
   "source": [
    "<div style=\"border:solid Chocolate 2px; padding: 40px\">\n",
    "    \n",
    "**Общий вывод по проекту ревьювера v4**:\n",
    " Александр, ошибки исправлены, проект принят, поздравляю тебя! Успешной учебы и еще увидимся в Практикуме!"
   ]
  },
  {
   "cell_type": "markdown",
   "id": "4336964e",
   "metadata": {
    "toc": true
   },
   "source": [
    "<h1>Table of Contents<span class=\"tocSkip\"></span></h1>\n",
    "<div class=\"toc\"><ul class=\"toc-item\"><li><span><a href=\"#Изучение-данных-и-общей-информации\" data-toc-modified-id=\"Изучение-данных-и-общей-информации-1\"><span class=\"toc-item-num\">1&nbsp;&nbsp;</span>Изучение данных и общей информации</a></span></li><li><span><a href=\"#Подготовка-данных\" data-toc-modified-id=\"Подготовка-данных-2\"><span class=\"toc-item-num\">2&nbsp;&nbsp;</span>Подготовка данных</a></span><ul class=\"toc-item\"><li><span><a href=\"#Заменим-названия-столбцов\" data-toc-modified-id=\"Заменим-названия-столбцов-2.1\"><span class=\"toc-item-num\">2.1&nbsp;&nbsp;</span>Заменим названия столбцов</a></span></li><li><span><a href=\"#Преобразуем-данные-в-нужные-типы-и-обработаем-пропуски\" data-toc-modified-id=\"Преобразуем-данные-в-нужные-типы-и-обработаем-пропуски-2.2\"><span class=\"toc-item-num\">2.2&nbsp;&nbsp;</span>Преобразуем данные в нужные типы и обработаем пропуски</a></span></li><li><span><a href=\"#Посчитаем-суммарные-продажи-во-всех-регионах-и-создадим-для-них-отдельный-столбец\" data-toc-modified-id=\"Посчитаем-суммарные-продажи-во-всех-регионах-и-создадим-для-них-отдельный-столбец-2.3\"><span class=\"toc-item-num\">2.3&nbsp;&nbsp;</span>Посчитаем суммарные продажи во всех регионах и создадим для них отдельный столбец</a></span></li></ul></li><li><span><a href=\"#Исследовательский-анализ-данных\" data-toc-modified-id=\"Исследовательский-анализ-данных-3\"><span class=\"toc-item-num\">3&nbsp;&nbsp;</span>Исследовательский анализ данных</a></span><ul class=\"toc-item\"><li><span><a href=\"#Количество-игр-в-разные-годы\" data-toc-modified-id=\"Количество-игр-в-разные-годы-3.1\"><span class=\"toc-item-num\">3.1&nbsp;&nbsp;</span>Количество игр в разные годы</a></span></li><li><span><a href=\"#Продажи-по-платформам\" data-toc-modified-id=\"Продажи-по-платформам-3.2\"><span class=\"toc-item-num\">3.2&nbsp;&nbsp;</span>Продажи по платформам</a></span></li><li><span><a href=\"#Актуальный-период-для-выборки\" data-toc-modified-id=\"Актуальный-период-для-выборки-3.3\"><span class=\"toc-item-num\">3.3&nbsp;&nbsp;</span>Актуальный период для выборки</a></span></li><li><span><a href=\"#График-с-усами\" data-toc-modified-id=\"График-с-усами-3.4\"><span class=\"toc-item-num\">3.4&nbsp;&nbsp;</span>График с усами</a></span></li><li><span><a href=\"#Влияние-на-продажи-отзывов-на-примере-PS4\" data-toc-modified-id=\"Влияние-на-продажи-отзывов-на-примере-PS4-3.5\"><span class=\"toc-item-num\">3.5&nbsp;&nbsp;</span>Влияние на продажи отзывов на примере PS4</a></span></li><li><span><a href=\"#Продажи-игр-на-других-платформах\" data-toc-modified-id=\"Продажи-игр-на-других-платформах-3.6\"><span class=\"toc-item-num\">3.6&nbsp;&nbsp;</span>Продажи игр на других платформах</a></span></li><li><span><a href=\"#Распределение-игр-по-жанрам\" data-toc-modified-id=\"Распределение-игр-по-жанрам-3.7\"><span class=\"toc-item-num\">3.7&nbsp;&nbsp;</span>Распределение игр по жанрам</a></span></li></ul></li><li><span><a href=\"#Портрет-пользователя-каждого-региона\" data-toc-modified-id=\"Портрет-пользователя-каждого-региона-4\"><span class=\"toc-item-num\">4&nbsp;&nbsp;</span>Портрет пользователя каждого региона</a></span><ul class=\"toc-item\"><li><span><a href=\"#Топ-5-платформ\" data-toc-modified-id=\"Топ-5-платформ-4.1\"><span class=\"toc-item-num\">4.1&nbsp;&nbsp;</span>Топ 5 платформ</a></span></li><li><span><a href=\"#Топ-5-Жанров\" data-toc-modified-id=\"Топ-5-Жанров-4.2\"><span class=\"toc-item-num\">4.2&nbsp;&nbsp;</span>Топ 5 Жанров</a></span></li><li><span><a href=\"#Влияние-рейтинга-ESRB-на-продажи\" data-toc-modified-id=\"Влияние-рейтинга-ESRB-на-продажи-4.3\"><span class=\"toc-item-num\">4.3&nbsp;&nbsp;</span>Влияние рейтинга ESRB на продажи</a></span></li></ul></li><li><span><a href=\"#Проверка-гипотез\" data-toc-modified-id=\"Проверка-гипотез-5\"><span class=\"toc-item-num\">5&nbsp;&nbsp;</span>Проверка гипотез</a></span><ul class=\"toc-item\"><li><span><a href=\"#Средние-пользовательские-рейтинги-платформ-Xbox-One-и-PC-одинаковые\" data-toc-modified-id=\"Средние-пользовательские-рейтинги-платформ-Xbox-One-и-PC-одинаковые-5.1\"><span class=\"toc-item-num\">5.1&nbsp;&nbsp;</span>Средние пользовательские рейтинги платформ Xbox One и PC одинаковые</a></span></li><li><span><a href=\"#Средние-пользовательские-рейтинги-жанров-Action-и-Sports--разные\" data-toc-modified-id=\"Средние-пользовательские-рейтинги-жанров-Action-и-Sports--разные-5.2\"><span class=\"toc-item-num\">5.2&nbsp;&nbsp;</span>Средние пользовательские рейтинги жанров Action и Sports  разные</a></span></li></ul></li><li><span><a href=\"#Общий-вывод\" data-toc-modified-id=\"Общий-вывод-6\"><span class=\"toc-item-num\">6&nbsp;&nbsp;</span>Общий вывод</a></span></li></ul></div>"
   ]
  },
  {
   "cell_type": "code",
   "execution_count": null,
   "id": "7e5a4b01",
   "metadata": {},
   "outputs": [],
   "source": [
    "<div style=\"border:solid Chocolate 2px; padding: 40px\">\n",
    "\n",
    "<b>Александр, привет!</b>\n",
    "\n",
    "Меня зовут Евгений Головин, я буду ревьюером твоего проекта. Если ты не против, то предлагаю посмотрить наше общение на \"ты\" ;) Если удобнее на \"вы\", то нет проблем, только скажи об этом. \n",
    "\n",
    "В ходе работы я оставил тебе комментарии <font color='green'>зеленого</font>, <font color='gold'>желтого</font> и <font color='red'>красного</font> цветов. Сейчас объясню, что они значат:\n",
    "\n",
    "<br/>\n",
    "\n",
    "<div class=\"alert alert-success\">\n",
    "<h2> Комментарий ревьюера <a class=\"tocSkip\"> </h2>\n",
    "\n",
    "<b>Все супер!👍:</b> Решение на этом шаге является полностью правильным.\n",
    "</div>\n",
    "\n",
    "<br/>\n",
    "\n",
    "<div class=\"alert alert-warning\">\n",
    "    <h2> Комментарий ревьюера <a class=\"tocSkip\"> </h2>\n",
    "    \n",
    "<b>Небольшие замечания и рекомендации💡:</b> Решение на этом шаге станет еще лучше, если внести небольшие коррективы.\n",
    "</div>\n",
    "\n",
    "\n",
    "<br/>\n",
    "<div class=\"alert alert-block alert-danger\">\n",
    "<h2> Комментарий ревьюера <a class=\"tocSkip\"></h2>\n",
    "\n",
    "    \n",
    "<b>На доработку🤔:</b>\n",
    " Решение на этом шаге требует существенной переработки и внесения правок. Напоминаю, что проект не может быть принят с первого раза, если ревью содержит комментарии, рекомендующие доработать шаги.\n",
    "</div>\n",
    "    \n",
    "Увидев мой комментарий, не удаляй его, он будет очень полезен в случае повторной проверки работы :)\n",
    "    \n",
    "<div class=\"alert alert-info\">\n",
    "<b>А свой помечай вот так, чтобы я его не потерял ;)</b> \n",
    "</div>\n",
    "    \n",
    "Увидев мой комментарий, не удаляй его, он будет очень полезен в случае повторной проверки работы :)\n",
    "    \n",
    "На мои комменатрии можно и нужно реагировать, только делать это стоит так, чтобы твои и мои комменты не смешались: выделяй свои цветами, сильно отличающимися от моих.\n",
    "    \n",
    "Увидев у тебя неточность, в первый раз я лишь укажу на ее наличие и дам тебе возможность самому найти и исправить ее. На реальной работе твой руководитель будет поступать также, и я пытаюсь подготовить тебя именно к работе аналитиком. Но если ты пока не справишься с такой задачей - при следующей проверке я дам более точную подсказку!\n",
    "\n",
    "<div class=\"alert alert-info\">\n",
    "<b>Привет, очень приятно</b> \n",
    "</div>\n",
    "\n",
    "<div class=\"alert alert-success\">\n",
    "<h2> Комментарий ревьюера v2 <a class=\"tocSkip\"> </h2>\n",
    "\n",
    "<b>Все супер!👍:</b> Александр, привет еще раз! Взаимно, сейчас проведем повторное ревью\n",
    "\n",
    "# Исследование закономерностей, определяющих успешность игры\n",
    "\n",
    "<div class=\"alert alert-warning\">\n",
    "    <h2> Комментарий ревьюера <a class=\"tocSkip\"> </h2>\n",
    "    \n",
    "<b>Небольшие замечания и рекомендации💡:</b> А давай напишем небольшое введение? Какими данными обаладем? Что планиурем с нимим делать? \n",
    "\n",
    "## Изучение данных и общей информации\n",
    "\n",
    "import numpy as np\n",
    "import pandas as pd\n",
    "import seaborn\n",
    "import matplotlib.pyplot as plt\n",
    "import seaborn as sns\n",
    "from scipy import stats as st\n",
    "\n",
    "data = pd.read_csv('/datasets/games.csv')\n",
    "\n",
    "display(data.head()) # Выведем первые 5 строк \n",
    "\n",
    "data.info() # Выводим общую информацию\n",
    "\n",
    "print(data.isna().sum()) # Смотрим количество пропусков\n",
    "\n",
    "data.shape # Выведем размер \n",
    "\n",
    "data.describe() # Выведем статистические данные, которые дают представление о распределении значений\n",
    "\n",
    "<div style=\"border:solid blue 2px; padding: 20px\">\n",
    "ВЫВОД: в полученном датасете 11 столбцов по 16715 значений имеются пропуски в полседних трех столбацх с рейтингом и в стольце с годами, наименование колонок не приведены к нижнему регистру, типы данных в годах и оценках пользователей логически не верны\n",
    "\n",
    "<div class=\"alert alert-success\">\n",
    "<h2> Комментарий ревьюера <a class=\"tocSkip\"> </h2>\n",
    "\n",
    "<b>Все супер!👍:</b> Отлично! Отметили и пропуски, и неправильные типы данных, и неправильный неминг столбцов. Молодец! Также можно здесь проверить наличие явных дублей и что-нибдуь сказать о распределениях данных\n",
    "\n",
    "## Подготовка данных\n",
    "\n",
    "### Заменим названия столбцов\n",
    "\n",
    "list(data.columns) # Посмотрим названия колонок\n",
    "\n",
    "for i in data: # Приведем все к нижнему регистру\n",
    "    \n",
    "    data = data.rename(columns={i : i.lower()})\n",
    "\n",
    "data.head() # Проверим\n",
    "\n",
    "<div class=\"alert alert-success\">\n",
    "<h2> Комментарий ревьюера <a class=\"tocSkip\"> </h2>\n",
    "\n",
    "<b>Все супер!👍:</b> Привели к нижнему регистру, отлично!\n",
    "\n",
    "### Преобразуем данные в нужные типы и обработаем пропуски\n",
    "\n",
    "**Год выпуск должен быть целым числом, пропуски удалим**\n",
    "\n",
    "data['year_of_release'] = data['year_of_release'].fillna(0) # Заменим пропуски нулями \n",
    "\n",
    "data['year_of_release'] = data['year_of_release'].astype(int) # Поменяем тип данных на целые числа\n",
    "\n",
    "data['year_of_release'].unique() # Проверим\n",
    "\n",
    "<div class=\"alert alert-success\">\n",
    "<h2> Комментарий ревьюера <a class=\"tocSkip\"> </h2>\n",
    "\n",
    "<b>Все супер!👍:</b> Дата приведена к правильному типу данных)\n",
    "\n",
    "**Оценка пользователей приведем к значения флоат и заменим tbd на nan**\n",
    "\n",
    "data['user_score'].unique() # Посмотрим уникальные значения\n",
    "\n",
    "data['user_score'].replace('tbd', 'nan', inplace=True) # Заменим tbd на nan\n",
    "\n",
    "data['user_score'] = data['user_score'].astype(\"float\") #.reset_index() # Поменяем тип данных\n",
    "\n",
    "data['user_score'].unique() # Проверим\n",
    "\n",
    "<div class=\"alert alert-success\">\n",
    "<h2> Комментарий ревьюера <a class=\"tocSkip\"> </h2>\n",
    "\n",
    "<b>Все супер!👍:</b> Полностью поддерживаю работу выше!\n",
    "\n",
    "**Удалим 2 значения пропущенных в наименованиях**\n",
    "\n",
    "data[data['name'].isnull()] # Не повлияет на общую картину и упростит дальнейшую обработку\n",
    "\n",
    "data = data.dropna(subset = ['name']).reset_index() # Удаляем\n",
    "\n",
    "<div class=\"alert alert-warning\">\n",
    "    <h2> Комментарий ревьюера <a class=\"tocSkip\"> </h2>\n",
    "    \n",
    "<b>Небольшие замечания и рекомендации💡:</b> Можно, но не забываем сбрасывать индексы\n",
    "\n",
    "<div class=\"alert alert-success\">\n",
    "<h2> Комментарий ревьюера v2 <a class=\"tocSkip\"> </h2>\n",
    "\n",
    "<b>Все супер!👍:</b> Сбросили\n",
    "\n",
    "**Посмотрим уникальные значения колонок с неполными данными**\n",
    "\n",
    "data['rating'].unique()\n",
    "\n",
    "data['critic_score'].unique()\n",
    "\n",
    "*Данные в этих столбцах мы оставим как есть, что бы не менять общюю картину данных, так как удаление приведет к недопустиому сокращению исследовательских данных, замену на медианное ззначение тут не и меет логического смысла*\n",
    "\n",
    "<div class=\"alert alert-warning\">\n",
    "    <h2> Комментарий ревьюера <a class=\"tocSkip\"> </h2>\n",
    "    \n",
    "<b>Небольшие замечания и рекомендации💡:</b> Почему бы нам не ввести заглушку?\n",
    "\n",
    "### Посчитаем суммарные продажи во всех регионах и создадим для них отдельный столбец\n",
    "\n",
    "data['all_sales'] = data['na_sales'] + data['eu_sales'] + data['jp_sales'] + data['other_sales'] # Складываем\n",
    "\n",
    "\n",
    "<div class=\"alert alert-success\">\n",
    "<h2> Комментарий ревьюера <a class=\"tocSkip\"> </h2>\n",
    "\n",
    "<b>Все супер!👍:</b> Сумма продаж по столбцам посчитана верно)\n",
    "\n",
    "data.head() # Проверяем\n",
    "\n",
    "data.shape # Проверяем размер данных после преобразований\n",
    "\n",
    "<div style=\"border:solid blue 2px; padding: 20px\">\n",
    "ВЫВОД: причесали датасет, что бы в дальнейшем исследовании не было ошибок преобрзования данных - типы данных приведены к логически верным, наименование столбцов к нижнему регистру для удобства, заменен артефакт tbd, добавлена колонка общих продаж\n",
    "\n",
    "<div class=\"alert alert-success\">\n",
    "<h2> Комментарий ревьюера <a class=\"tocSkip\"> </h2>\n",
    "\n",
    "<b>Все супер!👍:</b> Отлично поработали, подтверждаю!\n",
    "\n",
    "## Исследовательский анализ данных\n",
    "\n",
    "### Количество игр в разные годы\n",
    "\n",
    "# Построим график для всей выборки данных\n",
    "# По значениям года выпуска и методом проб установим рамки с 1980 по 2016\n",
    "    \n",
    "data.plot(y = 'year_of_release', kind = 'hist', bins = 30, range = (1980,2016), grid=True, figsize = (5,5));\n",
    "plt.title('Количество игр в разные годы')\n",
    "plt.xlabel('Годы')\n",
    "plt.ylabel('Количество')\n",
    "plt.show()\n",
    "\n",
    "**С 1980 индустрия только зарождалсь и к 1993 начала резкий путь наверх**\n",
    "\n",
    "**Можно сказать что наиболее важный путь - это с 1993 и до конца выборки - время рождения и становления феномена игр на консолях**\n",
    "\n",
    "# Построим график для наиболее обширного пути\n",
    "# По значениям года выпуска  установим рамки с 1933 по 2016\n",
    "\n",
    "data.plot(y = 'year_of_release', kind = 'hist', bins = 50, range = (1993,2016), grid=True);\n",
    "plt.title('Количество игр с 1993 по 2016')\n",
    "plt.xlabel('Год')\n",
    "plt.ylabel('Количество')\n",
    "plt.show()\n",
    "\n",
    "**На данном графике виден уверенный рост до 2008 года и падение, потом вновь рост к 2015. Можно дать промежуточную оценку, что финансовый кризис 2008 года ударил по индустрии игр**\n",
    "\n",
    "<div class=\"alert alert-success\">\n",
    "<h2> Комментарий ревьюера <a class=\"tocSkip\"> </h2>\n",
    "\n",
    "<b>Все супер!👍:</b> Ага, отлично, соглсаен!\n",
    "\n",
    "### Продажи по платформам\n",
    "\n",
    "**Посмотрим какие платформы продаются чаще найдем топ 10**\n",
    "\n",
    "top_platform_sales = data['platform'].value_counts().head(10) # топ 10 платформ\n",
    "top_platform_sales_max = data.query(\n",
    "    'platform in (@top_platform_sales.index)').pivot_table(values='all_sales', index='platform', aggfunc = 'sum')\n",
    "# группируем из топа 10 платформ\n",
    "top_platform = top_platform_sales_max.sort_values('all_sales', ascending=False) # группируем по возрастанию\n",
    "top_platform_10 = top_platform.reset_index() # добавим нумерацию\n",
    "\n",
    "\n",
    "top_platform_10 # выводим\n",
    "\n",
    "<div class=\"alert alert-success\">\n",
    "<h2> Комментарий ревьюера <a class=\"tocSkip\"> </h2>\n",
    "\n",
    "<b>Все супер!👍:</b> Топ платформ по продажам по всему периоду выведен верно\n",
    "\n",
    "sns.barplot(data=top_platform_10, x=\"platform\", y=\"all_sales\"); # визуализируем\n",
    "plt.title('График продаж по платформам')\n",
    "plt.ylabel('Общее количество продаж')\n",
    "plt.xlabel('Наименование платформы')\n",
    "plt.show()\n",
    "\n",
    "list(top_platform_10['platform'])\n",
    "\n",
    "*Чаще продаются платформы на графике выше - самые продаваемые платформы это 'PS2', 'X360', 'PS3'*\n",
    "\n",
    "<div class=\"alert alert-success\">\n",
    "<h2> Комментарий ревьюера <a class=\"tocSkip\"> </h2>\n",
    "\n",
    "<b>Все супер!👍:</b> И визуализацию отличная\n",
    "\n",
    "**Составим топ распределения по годам**\n",
    "\n",
    "# группируем из топа 10 платформ\n",
    "\n",
    "top_year_sales= data['year_of_release'].value_counts().head(10) # топ 10 платформ\n",
    "top_platform_sales_max = data.query(\n",
    "    'year_of_release in (@top_year_sales.index)').pivot_table(values='all_sales', index='year_of_release', aggfunc = 'sum')\n",
    "top_year = top_platform_sales_max.sort_values('all_sales', ascending=False) # группируем по возрастанию\n",
    "\n",
    "\n",
    "top_year_10 = top_year.reset_index()\n",
    "\n",
    "top_year_10\n",
    "\n",
    "sns.barplot(data=top_year_10, x=\"year_of_release\", y=\"all_sales\");\n",
    "plt.title('График продаж по годам')\n",
    "plt.ylabel('Общее количество продаж')\n",
    "plt.xlabel('Год')\n",
    "plt.show()\n",
    "\n",
    "list(top_year_10['year_of_release'])\n",
    "\n",
    "*Года с максимуми продаж - это 2008 2009 2007*\n",
    "\n",
    "*Четко виден рост к 2008 и падение после него*\n",
    "\n",
    "<div class=\"alert alert-success\">\n",
    "<h2> Комментарий ревьюера <a class=\"tocSkip\"> </h2>\n",
    "\n",
    "<b>Все супер!👍:</b> Так и есть!\n",
    "\n",
    "**Срок жизни платформ**\n",
    "\n",
    "top_year_10['year_of_release'].count() # Прмерный ориентир жизни платформы\n",
    "\n",
    "# Прмерный ориентир жизни платформы можно посмотреть наглядно\n",
    "# Возьмем топ платформ и выведем их жиненный путь по продажам на график\n",
    "\n",
    "data_life = data.query(\"platform == ['PS2', 'X360', 'PS3', 'Wii', 'DS', 'PS', 'GBA', 'PSP', 'PC', 'XB'] and year_of_release > 1995\")\n",
    "data_life.pivot_table(index='year_of_release', columns = 'platform', values='all_sales', aggfunc='sum').plot(\n",
    "    grid=True, figsize=(15, 5));\n",
    "plt.title('Срок жизни 10 Топ продовамых платформ')\n",
    "plt.xlabel('Год релиза')\n",
    "plt.ylabel('Общее количество продаж')\n",
    "plt.show()\n",
    "\n",
    "*Платформа живет 10 лет, чаще всего*\n",
    "\n",
    "<div class=\"alert alert-success\">\n",
    "<h2> Комментарий ревьюера <a class=\"tocSkip\"> </h2>\n",
    "\n",
    "<b>Все супер!👍:</b> Без сомнений поддерживаю!\n",
    "\n",
    "### Актуальный период для выборки\n",
    "\n",
    "**Возьмем самые продоваемые платформы в самые продоваемые года**\n",
    "\n",
    "<div class=\"alert alert-info\">\n",
    "<b> Выберем актуальный период из логики данных, которые мы имеем. Раз нам нужен прогноз на 2017 и желание увидеть еще актуальные платформы достаточно велико, данные мы возьмем за 2015 и 2016 год.</b> \n",
    "</div>\n",
    "\n",
    "<div class=\"alert alert-success\">\n",
    "<h2> Комментарий ревьюера v2 <a class=\"tocSkip\"> </h2>\n",
    "\n",
    "<b>Все супер!👍:</b> Правильно! Но мы беерм не только 15 и 16, а еще и 14 по коду, правильно?\n",
    "\n",
    "# Посмотрим все платформы, на период оставим с 2015 по 2016\n",
    "\n",
    "period_actyal = data.query('year_of_release >= 2014') \n",
    "\n",
    "period_actyal.pivot_table(index='year_of_release', columns = 'platform', values='all_sales', aggfunc='sum').plot(\n",
    "    grid=True, figsize=(15, 5));\n",
    "plt.title('Топ продаж платформ по Топ годам с 2015 по 2016')\n",
    "plt.xlabel('Год релиза')\n",
    "plt.ylabel('Общее количество продаж')\n",
    "plt.show()\n",
    "\n",
    "<div class=\"alert alert-info\">\n",
    "<b> Найдем самые продаваемые платформы из новой выборки, где года только 2015 и 2016</b> \n",
    "</div>\n",
    "\n",
    "top_pl_actyal_sales = period_actyal['platform'].value_counts().head(10) # топ 10 платформ\n",
    "top_pl_actyal_max = period_actyal.query(\n",
    "    'platform in (@top_pl_actyal_sales.index)').pivot_table(values='all_sales', index='platform', aggfunc = 'sum')\n",
    "top_plat_actyal = top_pl_actyal_max.sort_values('all_sales', ascending=False) # группируем по возрастанию\n",
    "top_plat_actyal_sal = top_plat_actyal.reset_index()\n",
    "\n",
    "top_plat_actyal_sal\n",
    "\n",
    "sns.barplot(data=top_plat_actyal_sal, x=\"platform\", y=\"all_sales\");\n",
    "plt.title('График продаж по 2015 - 2016')\n",
    "plt.ylabel('Общее количество продаж')\n",
    "plt.xlabel('Платформа')\n",
    "plt.show()\n",
    "\n",
    "<div class=\"alert alert-info\">\n",
    "<b> Видно 3 платформы у которых больше всего продаж, у остальных результаты скромнее посмотрим ближе на расределения</b> \n",
    "</div>\n",
    "\n",
    "<div class=\"alert alert-block alert-danger\">\n",
    "<h2> Комментарий ревьюера v2 <a class=\"tocSkip\"></h2>\n",
    "   \n",
    "<b>На доработку🤔:</b> Видимо я что-то не понимаю. Вижу на первому графике, что по продажам в каждому году PS4 была на первом месте, а выше уже X360 и PS3 выше. XOne была по продажам в каждому году на втором месте, но здесь вообще где-то сзади\n",
    "\n",
    "<div class=\"alert alert-info\">\n",
    "<b> Поменял, забыл изменить датасет, теперь дейтсвительно ПС4 вышла в топ 1 как и на первом графике</b> \n",
    "</div>\n",
    "\n",
    "<div class=\"alert alert-success\">\n",
    "<h2> Комментарий ревьюера v3 <a class=\"tocSkip\"> </h2>\n",
    "\n",
    "<b>Все супер!👍:</b> Ага, вижу, отлично! Молодец!\n",
    "\n",
    "list(top_plat_actyal_sal['platform'])\n",
    "\n",
    "PS3_data = period_actyal.query(\"platform == ['PS4', 'XOne', '3DS'] and year_of_release > 2014\")\n",
    "PS3_data.pivot_table(index='year_of_release', columns = 'platform', values='all_sales', aggfunc='sum').plot(\n",
    "    grid=True, figsize=(15, 5));\n",
    "plt.xlabel('Год релиза')\n",
    "plt.ylabel('Общее количество продаж')\n",
    "plt.show()\n",
    "\n",
    "<div class=\"alert alert-info\">\n",
    "<b> '3DS','PS4'и 'XOne' уверенно идут вниз - можно предположить что и в дальнейшем продажи будут падать\n",
    "</div>\n",
    "\n",
    "PS3_data = period_actyal.query(\"platform == ['PS3', 'X360', 'WiiU'] and year_of_release > 2013\")\n",
    "PS3_data.pivot_table(index='year_of_release', columns = 'platform', values='all_sales', aggfunc='sum').plot(\n",
    "    grid=True, figsize=(15, 5));\n",
    "plt.xlabel('Год релиза')\n",
    "plt.ylabel('Общее количество продаж')\n",
    "plt.show()\n",
    "\n",
    "<div class=\"alert alert-info\">\n",
    "<b> 'PS3', 'X360' равномерно резко снижались с 14ого по 15ый год и более равномерно продолжили падение в след году, \"WiiU\" уверенно падает в своем темпе\n",
    "</div>\n",
    "\n",
    "PS3_data = period_actyal.query(\"platform == ['PC', 'PSV', 'Wii'] and year_of_release > 2014\")\n",
    "PS3_data.pivot_table(index='year_of_release', columns = 'platform', values='all_sales', aggfunc='sum').plot(\n",
    "    grid=True, figsize=(15, 5));\n",
    "plt.xlabel('Год релиза')\n",
    "plt.ylabel('Общее количество продаж')\n",
    "plt.show()\n",
    "\n",
    "<div class=\"alert alert-info\">\n",
    "<b> Тут у всех динамика равномерномерного падения</b> \n",
    "</div>\n",
    "\n",
    "<div class=\"alert alert-info\">\n",
    "<b> Актуальный период определили по новой взяли с 2014 года по 2016, топ продаж построен - в топе 'X360', 'PS3', 'Wii', динамика определена в - тенденция на снижение продаж не считая 'PSV' 'PC','PSP' и 'Wii'  </b> \n",
    "</div>\n",
    "\n",
    "<div class=\"alert alert-block alert-danger\">\n",
    "<h2> Комментарий ревьюера v2 <a class=\"tocSkip\"></h2>\n",
    "   \n",
    "<b>На доработку🤔:</b> У нас в целом индустрия падает, не стоит об этом забыть. Но проблема не в этом, а вот что в нашем топе продаж по актуальному периоду откуда-то взялись PS и X360, хотя по первому графику четко видно, что лидеры должны быть другие\n",
    "\n",
    "<div class=\"alert alert-info\">\n",
    "<b> Изменил в формуле формирование датасета на актуальный и дейчтвтельно поменялись платформы</b> \n",
    "</div>\n",
    "\n",
    "<div class=\"alert alert-block alert-danger\">\n",
    "<h2> Комментарий ревьюера v3 <a class=\"tocSkip\"></h2>\n",
    "   \n",
    "<b>На доработку🤔:</b> Только выводы еще подкорректируй, хорошо?\n",
    "\n",
    "<div class=\"alert alert-info\">\n",
    "<b> Поменял выводы</b> \n",
    "</div>\n",
    "\n",
    "<div class=\"alert alert-warning\">\n",
    "    <h2> Комментарий ревьюера v4 <a class=\"tocSkip\"> </h2>\n",
    "    \n",
    "<b>Небольшие замечания и рекомендации💡:</b> По выводам - у нас же вся индустрия идет вниз, поэтому понятно, что дажеи на топовых платформах продажи пойдут вниз, но это не отменяет того, что они все еще будут приносить прибыль\n",
    "\n",
    "<div class=\"alert alert-block alert-danger\">\n",
    "<h2> Комментарий ревьюера <a class=\"tocSkip\"></h2>\n",
    "\n",
    "<b>На доработку🤔:</b>  Упс, кажется мы сбились с пути истинного. Для начала давай соблюдать последовательность: сначала актуальный период, затем топ продаж оп актуальному периоду, затем берем топовые по продажам платформы и сторим по ним боксплоты. По актуальному периоду - для целей прогнозирования продаж на следующий год даже в традиционных бизнесах редко берут данные более чем за 2-3 года. А в такой динамично меняющейся индустрии, как компьютерные игры и вовсе не стоит брать слишком большой временной интервал - иначе обязательно захватишь уже отжившие тренды. Но и слишком короткий период тоже брать не стоит.\n",
    "\n",
    "### График с усами\n",
    "\n",
    "<div class=\"alert alert-info\">\n",
    "<b> Добавим в график параметр пplt.ylim(0, 2) что бы видеть нижнюю часть и разабьем выборку на 2 части что бы отчетливо видеть названия </b> \n",
    "</div>\n",
    "\n",
    "period_actyal['platform'].unique() # Выведем все приставки\n",
    "\n",
    "# Строим диаграмму размаха по первой половине на нижний ус\n",
    "\n",
    "first_part_data = period_actyal.query(\"platform == ['PS4', '3DS', 'XOne', 'WiiU', 'PS3']\")\n",
    "first_part_data.boxplot(column='all_sales', by='platform')\n",
    "plt.ylim(0, 2)\n",
    "plt.xlabel('Платформа')\n",
    "plt.ylabel('Общее количество продаж')\n",
    "plt.show()\n",
    "\n",
    "\n",
    "\n",
    "<div class=\"alert alert-info\">\n",
    "<b> У всех платформ медина в примерно одном диапозоне, больша я часть значений - это то что лежит в \"прямоугольнике\" - у PS4 и XOne  примерно на уровне 0.73 на третьем месте WiiU  и замыкает 3DS и PS3\n",
    "</div>\n",
    "\n",
    "# Строим диаграмму размаха по первой половине на верхний ус\n",
    "\n",
    "first_part_data = period_actyal.query(\"platform == ['PS4', '3DS', 'XOne', 'WiiU', 'PS3']\")\n",
    "first_part_data.boxplot(column='all_sales', by='platform')\n",
    "plt.xlabel('Платформа')\n",
    "plt.ylabel('Общее количество продаж')\n",
    "plt.show()\n",
    "\n",
    "<div class=\"alert alert-info\">\n",
    "<b> Больше всего выбросов у PS4 и 3DS на уровне 14 и 12 возможно это сходится с релизами супер популярных игр на этих платформах\n",
    "</div>\n",
    "\n",
    "# Строим диаграмму размаха по первой половине на нижний ус\n",
    "\n",
    "first_part_data = period_actyal.query(\"platform == ['PS4', '3DS', 'XOne', 'WiiU', 'PS3']\")\n",
    "first_part_data.boxplot(column='all_sales', by='platform')\n",
    "plt.ylim(0, 1)\n",
    "plt.xlabel('Платформа')\n",
    "plt.ylabel('Общее количество продаж')\n",
    "plt.show()\n",
    "\n",
    "first_part_data['all_sales'].describe()\n",
    "\n",
    "<div class=\"alert alert-info\">\n",
    "<b> Нижние «усы» упираеются в 0,01 минимальное значение. Верхние заканчиваются около 0.48 . Это ориентировочная граница нормального размаха. Всё, что лежит за ней, считается выбросом. Более высокие значения рисуются отдельными точками: таких выбросов много и доходят аж до 14.6 у PS4. </b> \n",
    "</div>\n",
    "\n",
    "<div class=\"alert alert-block alert-danger\">\n",
    "<h2> Комментарий ревьюера <a class=\"tocSkip\"></h2>\n",
    "\n",
    "<b>На доработку🤔:</b> К сожалению, на этом графике видны только выбросы, и совсем не видны медиана и 75% квантиль. Для более обоснованных выводов нужно сделать дополнительный график, где будет отображена только нижняя часть boxplot-ов. Этого можно добиться, например, задав параметр ylim.\n",
    "\n",
    "<div class=\"alert alert-block alert-danger\">\n",
    "<h2> Комментарий ревьюера v2 <a class=\"tocSkip\"></h2>\n",
    "   \n",
    "<b>На доработку🤔:</b> К сожалению все еще не видно медиан :( Предлагаю изменить тактику - давай исследовать здесь только топ-5 перспеткивных платформ, только в актуальном периоде + сделаем размер графика побольше. \n",
    "\n",
    "<div class=\"alert alert-info\">\n",
    "<b> Изменил на топ 5 по актуальному периоду и приблизил графики</b> \n",
    "</div>\n",
    "\n",
    "<div class=\"alert alert-block alert-danger\">\n",
    "<h2> Комментарий ревьюера v3 <a class=\"tocSkip\"></h2>\n",
    "   \n",
    "<b>На доработку🤔:</b> И выводы исправить не забудь)\n",
    "\n",
    "<div class=\"alert alert-info\">\n",
    "<b> Поменял выводы</b> \n",
    "</div>\n",
    "\n",
    "<div class=\"alert alert-success\">\n",
    "<h2> Комментарий ревьюера v4 <a class=\"tocSkip\"> </h2>\n",
    "\n",
    "<b>Все супер!👍:</b> Ага, хорошо)\n",
    "\n",
    "### Влияние на продажи отзывов на примере PS4 \n",
    "\n",
    "**Диаграмма рассеяния - посмотрим на примере PS4 и остальных топ 5 платформ**\n",
    "\n",
    "<div class=\"alert alert-info\">\n",
    "<b> Исследование берем из выборки вктуального периода </b> \n",
    "</div>\n",
    "\n",
    "first_part_data = period_actyal.query(\"platform == ['PS4', '3DS', 'XOne', 'WiiU', 'PS3']\")\n",
    "\n",
    "unique_data = 0 \n",
    "\n",
    "for i in first_part_data['platform'].unique():\n",
    "    cor_top5 = first_part_data.query(\"platform == @i\")\n",
    "    print('Коэффициент корелляции', i, cor_top5['user_score'].corr(first_part_data['all_sales']))\n",
    "    cor_top5.plot(x='user_score', y='all_sales', kind='scatter')\n",
    "    plt.title('Диаграмма рассеяния для продаж и оценки пользователей')\n",
    "    plt.xlabel(i)\n",
    "    plt.show()\n",
    "\n",
    "unique_data = 0 \n",
    "\n",
    "for i in first_part_data['platform'].unique():\n",
    "    cor_top5 = first_part_data.query(\"platform == @i\")\n",
    "    print('Коэффициент корелляции', i, cor_top5['critic_score'].corr(first_part_data['all_sales']))\n",
    "    cor_top5.plot(x='critic_score', y='all_sales', kind='scatter')\n",
    "    plt.title('Диаграмма рассеяния для продаж и оценки критиков')\n",
    "    plt.xlabel(i)\n",
    "    plt.show()\n",
    "\n",
    "<div class=\"alert alert-info\">\n",
    "<b> На популяронйо платформе Коэффициент корелляции PS4 -0.04 от оценок пользователей и 0.40 от оценок критиков, что говорит о большем влиянии критиков на продажи</b> \n",
    "</div>\n",
    "\n",
    "<div class=\"alert alert-block alert-danger\">\n",
    "<h2> Комментарий ревьюера v2 <a class=\"tocSkip\"></h2>\n",
    "   \n",
    "<b>На доработку🤔:</b> А мы этот график строим в оформате отызвы критиков - отызывы пользователей или отызвы критиков - цена и отызыв пользователей - цена?\n",
    "\n",
    "<div class=\"alert alert-info\">\n",
    "<b> Поменял график с усами</b> \n",
    "</div>\n",
    "\n",
    "<div class=\"alert alert-block alert-danger\">\n",
    "<h2> Комментарий ревьюера v3 <a class=\"tocSkip\"></h2>\n",
    "   \n",
    "<b>На доработку🤔:</b> Но у нас в этом раздеел не ящик с усами, у нас диаграмма рассеивания. У тебя она построена в формате зависимость оценок критиков от оценок пользвоателей. Об этом мне говорит навзание осей - по x \"user_score\", а по y \"critic_score\". А должно быть 2 графика: завиисмость цены от оценок критиков + зависимость цены от оценок пользователей\n",
    "\n",
    "<div class=\"alert alert-info\">\n",
    "<b> Построил графики как зависимость оценок пользователей от продаж и оценок критиков от продаж\n",
    "</div>\n",
    "\n",
    "<div class=\"alert alert-success\">\n",
    "<h2> Комментарий ревьюера v4 <a class=\"tocSkip\"> </h2>\n",
    "\n",
    "<b>Все супер!👍:</b> Ага, молодец!\n",
    "\n",
    "### Продажи игр на других платформах\n",
    "\n",
    "first_part_data = period_actyal.query(\"platform == ['XOne']\")\n",
    "\n",
    "XOne_cor = first_part_data[['critic_score','user_score', 'all_sales']]\n",
    "XOne_cor.corr()\n",
    "\n",
    "first_part_data = period_actyal.query(\"platform == ['3DS']\")\n",
    "\n",
    "а3DS_cor = first_part_data[['critic_score','user_score', 'all_sales']]\n",
    "а3DS_cor.corr()\n",
    "\n",
    "\n",
    "first_part_data = period_actyal.query(\"platform == ['PS3']\")\n",
    "\n",
    "PS3_cor = first_part_data[['critic_score','user_score', 'all_sales']]\n",
    "PS3_cor.corr()\n",
    "\n",
    "<div class=\"alert alert-info\">\n",
    "<b> В актуальном периоде оценнки критиков влияют на продажи сильнее оценок пользователей по всем изученым платформам\n",
    "    \n",
    "    XOne критики 0.428677\tПользователи -0.070384\n",
    "    3DS критики 0.314117\tПользователи 0.215193\n",
    "    PS3 критики 0.446575\tПользователи -0.166761\n",
    "</div>\n",
    "\n",
    "<div class=\"alert alert-block alert-danger\">\n",
    "<h2> Комментарий ревьюера <a class=\"tocSkip\"></h2>\n",
    "\n",
    "<b>На доработку🤔:</b>  А почему мы смотрим диграммы рассеивания только для оценок критиков? ЕЩе один момент - рассмотрены не актуальный платформы, но все это пофикистся с исправлением актуального периода\n",
    "\n",
    "<div class=\"alert alert-block alert-danger\">\n",
    "<h2> Комментарий ревьюера v2 <a class=\"tocSkip\"></h2>\n",
    "   \n",
    "<b>На доработку🤔:</b> Справедлив тот же вопрос, что и выше. Плюс давай рассмотрим корреляции для остальных платформ, хорошо?\n",
    "\n",
    "<div class=\"alert alert-info\">\n",
    "<b> Переделел график с усами и добавил кореляцию по платформам</b> \n",
    "</div>\n",
    "\n",
    "<div class=\"alert alert-block alert-danger\">\n",
    "<h2> Комментарий ревьюера v3 <a class=\"tocSkip\"></h2>\n",
    "   \n",
    "<b>На доработку🤔:</b> Еще раз обозначу, что в этом разделе у нас не фищки с усами, и адаграммы рассеивания. Давай еще построим диаграммы рассеивания для всех исследованных выше платформ. Получается, что для каждой платформы будет 2 диаграаммы: user_score - all_sales и critic_score - all_sales\n",
    "\n",
    "<div class=\"alert alert-info\">\n",
    "<b> Построил диаграммы рассеевания для пользователей и критиков от продаж и добавил коэффициенты корреляции</b> \n",
    "</div>\n",
    "\n",
    "<div class=\"alert alert-success\">\n",
    "<h2> Комментарий ревьюера v4 <a class=\"tocSkip\"> </h2>\n",
    "\n",
    "<b>Все супер!👍:</b> Ага, молодец!\n",
    "\n",
    "### Распределение игр по жанрам\n",
    "\n",
    "len(period_actyal['genre'].unique()) # Всего жанров\n",
    "\n",
    "# Строим похожую конструкцию для жанров\n",
    "\n",
    "top_genre_sales= period_actyal['genre'].value_counts().head(12)\n",
    "top_pgenre_sales_max = data.query(\n",
    "    'genre in (@top_genre_sales.index)').pivot_table(values='all_sales', index='genre', aggfunc = 'sum')\n",
    "top_genre = top_pgenre_sales_max.sort_values('all_sales', ascending=False)\n",
    "\n",
    "top_genre_12 = top_genre.reset_index()\n",
    "top_genre_12\n",
    "\n",
    "palette_color = seaborn.color_palette('bright')\n",
    "plt.pie(data = top_genre_12, x = 'all_sales', labels='genre', colors=palette_color, autopct='%.0f%%', radius =2)\n",
    "plt.show()\n",
    "\n",
    "*Половина всех жанров составляют 3 наиболее продаваемые акшены спорт и музыка замыкает список стратегии*\n",
    "\n",
    "<div style=\"border:solid blue 2px; padding: 20px\">\n",
    "ВЫВОД: Самый важный период это период расцева и кратковременного упадка игр с 1993 по сейчас на нем можно увидеть и рост интереса к данной отрасли и влияния внешних факторов. В среднем в течении 10 лет рождаются и умирают новые платформы в борьбе с Родителями отрасли плейстейшеном и пк. Оценки влияют, но не так сильно как скорее всего вляиют прочий факторы, но сбрасывать их со счетов нельзя так как они всеравно имееют влияние. 3 наиболее популярных жанра составляют больше половины всех продаж.\n",
    "\n",
    "<div class=\"alert alert-warning\">\n",
    "    <h2> Комментарий ревьюера <a class=\"tocSkip\"> </h2>\n",
    "    \n",
    "<b>Небольшие замечания и рекомендации💡:</b> А давай медианы здесь еще посмотрим?\n",
    "\n",
    "## Портрет пользователя каждого региона\n",
    "\n",
    "\n",
    "### Топ 5 платформ\n",
    "\n",
    "**Северная Амерканские топ Платформ**\n",
    "\n",
    "top_na_sales = period_actyal['platform'].value_counts().head(5) # топ 10 платформ\n",
    "top_na_sales_platform = period_actyal.query(\n",
    "    'platform in (@top_na_sales.index)').pivot_table(values='na_sales', index='platform', aggfunc = 'sum')\n",
    "top_na = top_na_sales_platform.sort_values('na_sales', ascending=False)\n",
    "top_na_5 = top_na.reset_index()\n",
    "top_na_5\n",
    "\n",
    "sns.barplot(data=top_na_5, x=\"platform\", y=\"na_sales\");\n",
    "plt.title('Топ 5 приставок в Северной Америке')\n",
    "plt.ylabel('Общее количество продажв Северной Америке')\n",
    "plt.xlabel('Платформа')\n",
    "plt.show()\n",
    "\n",
    "**ПС4 созданная в 2013 (в инете посмотрел) вышла на свой пик проддаж к 2014-2016 годам и пойдет на спад дальше в правилах игры на этом рынке который мы заметилии ранее**\n",
    "\n",
    "**Европейские топ Платформ**\n",
    "\n",
    "top_eu_sales = period_actyal['platform'].value_counts().head(5) # топ 10 платформ\n",
    "top_eu_sales_platform = period_actyal.query(\n",
    "    'platform in (@top_eu_sales.index)').pivot_table(values='eu_sales', index='platform', aggfunc = 'sum')\n",
    "top_eu = top_eu_sales_platform.sort_values('eu_sales', ascending=False)\n",
    "top_eu_5 = top_eu.reset_index()\n",
    "top_eu_5\n",
    "\n",
    "sns.barplot(data=top_eu_5, x=\"platform\", y=\"eu_sales\");\n",
    "plt.title('Топ 5 приставок в Европе')\n",
    "plt.ylabel('Общее количество продаж в Европе')\n",
    "plt.xlabel('Платформа')\n",
    "plt.show()\n",
    "\n",
    "**В Европе топ остается тем же только с меньшим количеством и большим отставанием XONE, что говорит о неокой солидарности западного мира**\n",
    "\n",
    "**Японски топ Платформ**\n",
    "\n",
    "top_jp_sales = period_actyal['platform'].value_counts().head(5) # топ 10 платформ\n",
    "top_jp_sales_platform = period_actyal.query(\n",
    "    'platform in (@top_jp_sales.index)').pivot_table(values='jp_sales', index='platform', aggfunc = 'sum')\n",
    "top_jp = top_jp_sales_platform.sort_values('jp_sales', ascending=False)\n",
    "top_jp_5 = top_jp.reset_index()\n",
    "top_jp_5\n",
    "\n",
    "sns.barplot(data=top_jp_5, x=\"platform\", y=\"jp_sales\");\n",
    "plt.title('Топ 5 приставок в Японии')\n",
    "plt.ylabel('Общее количество продаж в Японии')\n",
    "plt.xlabel('Платформа')\n",
    "plt.show()\n",
    "\n",
    "**В Японии нинтендо 3DS вырывается уверено в лидеры, возможно там ее и придумали для локального рынка, визуально уступающего в количестве продаж**\n",
    "\n",
    "<div class=\"alert alert-success\">\n",
    "<h2> Комментарий ревьюера v2 <a class=\"tocSkip\"> </h2>\n",
    "\n",
    "<b>Все супер!👍:</b> Верно!\n",
    "\n",
    "### Топ 5 Жанров\n",
    "\n",
    "**Северная Америка и жанры Игр**\n",
    "\n",
    "top_genre_na_sales= period_actyal['genre'].value_counts().head(5)\n",
    "top_pgenre_na_sales= period_actyal.query(\n",
    "    'genre in (@top_genre_na_sales.index)').pivot_table(values='na_sales', index='genre', aggfunc = 'sum')\n",
    "top_genre_na_sales = top_pgenre_na_sales.sort_values('na_sales', ascending=False)\n",
    "top_na_sales = top_genre_na_sales.reset_index()\n",
    "top_na_sales\n",
    "\n",
    "palette_color = seaborn.color_palette('bright')\n",
    "plt.pie(data = top_na_sales, x = 'na_sales', labels='genre', colors=palette_color, autopct='%.0f%%', radius =2)\n",
    "plt.show()\n",
    "\n",
    "**В америке любовь к оружию выражается не только возможностью его ношения но и в компьютерных играх**\n",
    "\n",
    "**Европа**\n",
    "\n",
    "top_genre_eu_sales= period_actyal['genre'].value_counts().head(5)\n",
    "top_pgenre_eu_sales= period_actyal.query(\n",
    "    'genre in (@top_genre_eu_sales.index)').pivot_table(values='eu_sales', index='genre', aggfunc = 'sum')\n",
    "top_genre_eu_sales = top_pgenre_eu_sales.sort_values('eu_sales', ascending=False)\n",
    "top_eu_sales = top_genre_eu_sales.reset_index()\n",
    "top_eu_sales\n",
    "\n",
    "palette_color = seaborn.color_palette('bright')\n",
    "plt.pie(data = top_eu_sales, x = 'eu_sales', labels='genre', colors=palette_color, autopct='%.0f%%', radius =2)\n",
    "plt.show()\n",
    "\n",
    "**Европейский потребитель оказался любетелм экшен жанров, но и влияние шутингов так же велико**\n",
    "\n",
    "**Япония**\n",
    "\n",
    "top_genre_jp_sales= period_actyal['genre'].value_counts().head(5)\n",
    "top_pgenre_jp_sales= period_actyal.query(\n",
    "    'genre in (@top_genre_jp_sales.index)').pivot_table(values='jp_sales', index='genre', aggfunc = 'sum')\n",
    "top_genre_jp_sales = top_pgenre_jp_sales.sort_values('jp_sales', ascending=False)\n",
    "top_jp_sales = top_genre_jp_sales.reset_index()\n",
    "top_jp_sales\n",
    "\n",
    "palette_color = seaborn.color_palette('bright')\n",
    "plt.pie(data = top_jp_sales, x = 'jp_sales', labels='genre', colors=palette_color, autopct='%.0f%%', radius =2)\n",
    "plt.show()\n",
    "\n",
    "**В Японии же распределение по жанрам совершенно иное и на первое место выходит Ролевые игры а экшен уходит на 2ое сето**\n",
    "\n",
    "<div class=\"alert alert-success\">\n",
    "<h2> Комментарий ревьюера v2 <a class=\"tocSkip\"> </h2>\n",
    "\n",
    "<b>Все супер!👍:</b> Правильно\n",
    "\n",
    "### Влияние рейтинга ESRB на продажи\n",
    "\n",
    "list(period_actyal['rating'].unique())\n",
    "\n",
    "# Группируем рейтинг в таблицу с продажами по регионам, возьмем медианные значения\n",
    "\n",
    "ESRB_rating = period_actyal.pivot_table(index = 'rating', values = ['na_sales','eu_sales','jp_sales'], aggfunc = 'sum')\n",
    "ESRB_rating\n",
    "\n",
    "ESRB_rating.plot(kind = 'bar', figsize=(5,5));\n",
    "plt.title('Влияние рейтинга')\n",
    "plt.ylabel('Сумма продаж')\n",
    "plt.xlabel('Оценка')\n",
    "plt.show()\n",
    "\n",
    "**Из таблицы и графика явно видно что в играх категории Е больший показатель у Европы в остальных параметрах америка обгоняет**\n",
    "\n",
    "<div style=\"border:solid blue 2px; padding: 20px\">\n",
    "ВЫВОД: регионы Европы и Северной Америке в целом Монотонны не считая разница в рейтенге шутинга, Японский же рынок сильно отличается как в Жанрах так и в Платформах и допустимости рейтинговых ограничений\n",
    "\n",
    "<div class=\"alert alert-info\">\n",
    "<b> Период расчетов показателей заменен</b> \n",
    "</div>\n",
    "\n",
    "<div class=\"alert alert-block alert-danger\">\n",
    "<h2> Комментарий ревьюера <a class=\"tocSkip\"></h2>\n",
    "\n",
    "<b>На доработку🤔:</b>  Исправим актуальный период и вернемся к проверке этого раздела\n",
    "    \n",
    "\n",
    "<div class=\"alert alert-warning\">\n",
    "    <h2> Комментарий ревьюера v2 <a class=\"tocSkip\"> </h2>\n",
    "    \n",
    "<b>Небольшие замечания и рекомендации💡:</b> Хорошо! Еще бы хаглушку ввести в ретйинги)\n",
    "\n",
    "## Проверка гипотез\n",
    "\n",
    "### Средние пользовательские рейтинги платформ Xbox One и PC одинаковые\n",
    "\n",
    "<div class=\"alert alert-block alert-danger\">\n",
    "<h2> Комментарий ревьюера <a class=\"tocSkip\"></h2>\n",
    "\n",
    "<b>На доработку🤔:</b>  Давай все же гипотезы сформулируем?\n",
    "\n",
    "<div class=\"alert alert-info\">\n",
    "<b> Формулировка нулевой и альтернативной гипотезы -\n",
    "H0: рейтинги одинаковые\n",
    "H1: рейтинги разные</b> \n",
    "</div>\n",
    "\n",
    "<div class=\"alert alert-success\">\n",
    "<h2> Комментарий ревьюера v2 <a class=\"tocSkip\"> </h2>\n",
    "\n",
    "<b>Все супер!👍:</b> Гипотезы сформулирвоаны верно\n",
    "\n",
    "period_actyal = period_actyal.dropna(subset = ['user_score']) # удаляем пропуски так как с ними не работает дальнейшие пвчисления\n",
    "list(period_actyal['platform'].unique())\n",
    "\n",
    "\n",
    "XOne_new = period_actyal.query(\"platform == 'XOne' & user_score >0\")['user_score']\n",
    "PC_new = period_actyal.query(\"platform == 'PC' & user_score >0\")['user_score']\n",
    "\n",
    "alpha = .05 # критический уровень статистической значимости\n",
    "# если p-value окажется меньше него - отвергнем гипотезу\n",
    "\n",
    "results = st.ttest_ind(\n",
    "    XOne_new, \n",
    "    PC_new )\n",
    "\n",
    "print('p-значение:', results.pvalue)\n",
    "\n",
    "if results.pvalue < alpha:\n",
    "    print(\"Отвергаем нулевую гипотезу\")\n",
    "else:\n",
    "    print(\"Не получилось отвергнуть нулевую гипотезу\") \n",
    "\n",
    "print(XOne_new.mean())\n",
    "print(PC_new.mean())\n",
    "\n",
    "<div class=\"alert alert-block alert-danger\">\n",
    "<h2> Комментарий ревьюера <a class=\"tocSkip\"></h2>\n",
    "\n",
    "<b>На доработку🤔:</b>  Так все же XOne или Х360?\n",
    "\n",
    "<div class=\"alert alert-success\">\n",
    "<h2> Комментарий ревьюера v2 <a class=\"tocSkip\"> </h2>\n",
    "\n",
    "<b>Все супер!👍:</b> Исправлено!\n",
    "\n",
    "### Средние пользовательские рейтинги жанров Action и Sports  разные\n",
    "\n",
    "<div class=\"alert alert-block alert-danger\">\n",
    "<h2> Комментарий ревьюера <a class=\"tocSkip\"></h2>\n",
    "\n",
    "<b>На доработку🤔:</b> Опять же давай сформулируем гипотезы\n",
    "    \n",
    "\n",
    "<div class=\"alert alert-info\">\n",
    "<b> Формулировка нулевой и альтернативной гипотезы -\n",
    "H0: рейтинги одинаковые\n",
    "H1: рейтинги разные</b> \n",
    "</div>\n",
    "\n",
    "<div class=\"alert alert-success\">\n",
    "<h2> Комментарий ревьюера v2 <a class=\"tocSkip\"> </h2>\n",
    "\n",
    "<b>Все супер!👍:</b> Гипотезы сформулирвоаны правильно)\n",
    "\n",
    "period_actyal = data.dropna(subset = ['user_score']) # удаляем пропуски так как с ними не работает дальнейшие пвчисления\n",
    "list(data['genre'].unique())\n",
    "\n",
    "\n",
    "action_new= data[data['genre'] == 'Action']\n",
    "action_new_user_score = action_new['user_score']\n",
    "\n",
    "sport_new= data[data['genre'] == 'Sports']\n",
    "sport_new_user_score = sport_new['user_score']\n",
    "\n",
    "alpha = .05 # критический уровень статистической значимости\n",
    "# если p-value окажется меньше него - отвергнем гипотезу\n",
    "\n",
    "results = st.ttest_ind(\n",
    "    action_new_user_score, \n",
    "    sport_new_user_score)\n",
    "\n",
    "print('p-значение:', results.pvalue)\n",
    "\n",
    "if results.pvalue < alpha:\n",
    "    print(\"Отвергаем нулевую гипотезу\")\n",
    "else:\n",
    "    print(\"Не получилось отвергнуть нулевую гипотезу\") \n",
    "\n",
    "print(action_new_user_score.mean())\n",
    "print(sport_new_user_score.mean())\n",
    "\n",
    "<div style=\"border:solid blue 2px; padding: 20px\">\n",
    "ВЫВОД:\n",
    "мы применили этот метод потому что выборочные средние нормально распределены.\n",
    "\n",
    "\n",
    "Формулировка нулевой и альтернативной гипотезы -    \n",
    "H0: рейтинги одинаковые    \n",
    "H1: рейтинги разные\n",
    "    \n",
    "\n",
    "data['user_score'].describe()\n",
    "\n",
    "<div class=\"alert alert-block alert-danger\">\n",
    "<h2> Комментарий ревьюера <a class=\"tocSkip\"></h2>\n",
    "\n",
    "<b>На доработку🤔:</b> Ага, а вот и формулирование гипотез) Давай перенесем перед проверкой гипотез, а также перерабоатем этот раздел по новому актуальному периоду\n",
    "\n",
    "<div class=\"alert alert-block alert-danger\">\n",
    "<h2> Комментарий ревьюера v2 <a class=\"tocSkip\"></h2>\n",
    "   \n",
    "<b>На доработку🤔:</b> Давай еще оценки выведем средние, хорошо?\n",
    "\n",
    "<div class=\"alert alert-info\">\n",
    "<b> Добавил среднее теории отвергнуты</b> \n",
    "</div>\n",
    "\n",
    "<div class=\"alert alert-success\">\n",
    "<h2> Комментарий ревьюера v3 <a class=\"tocSkip\"> </h2>\n",
    "\n",
    "<b>Все супер!👍:</b> Хорошо\n",
    "    \n",
    "\n",
    "## Общий вывод\n",
    "\n",
    "<div style=\"border:solid blue 2px; padding: 20px\">\n",
    "ВЫВОД: изучены данные и произведены небходимые преобразования, добавлен столбец суммарынх продаж по которму слделаны многие выводы в дальнейшем исследовании. Посчитано и визуально представлено количество игр и их жизненый цикл как по жанрам так и по платформам, исследованы корреляции с отзывами и продажами в заных регионах, рассмотрено влияние рейтинга в регионах и не приняты 2 поставленные гипотезы.\n",
    "\n",
    "<div class=\"alert alert-block alert-danger\">\n",
    "<h2> Комментарий ревьюера <a class=\"tocSkip\"></h2>\n",
    "\n",
    "<b>На доработку🤔:</b>  Исправим ошибки выше и доработаем итоговый вывод\n",
    "\n",
    "<div class=\"alert alert-warning\">\n",
    "    <h2> Комментарий ревьюера v4 <a class=\"tocSkip\"> </h2>\n",
    "    \n",
    "<b>Небольшие замечания и рекомендации💡:</b> Вывод не забудь доработать п омотвиам испралвений выше\n",
    "\n",
    "<div style=\"border:solid Chocolate 2px; padding: 40px\">\n",
    "    \n",
    "**Общий вывод по проекту ревьювера**:\n",
    " Александр, спасибо за  проект! Ты приложил много усилий, чтобы довести его до конца, проделана огромная работа, и это видно невооруженным глазом, ты большой молодец!\n",
    "    \n",
    "**Отмечу положительные моменты**:\n",
    "    \n",
    "    1. Все разложено по полочкам, всегда понятен ход твоих мыслей, приятно смотреть\n",
    "    \n",
    "    2. Отличные визуализации\n",
    "    \n",
    "    2. На разных шагах проекта ты предлагал очень интересные решения и методы для их реализации. Хорошая работа!\n",
    "    \n",
    "    \n",
    "**На что стоит обратить внимание**:\n",
    "    \n",
    "    1. Актуальный период определен неверно, что повлекло ошибки в следующих разделах\n",
    "\n",
    "    2. Боксплоты построены не совсем так, как нужно\n",
    "\n",
    "    3. Не рассмотрены графики рассеивания для оценок пользователей\n",
    "\n",
    "    4. Ошибки в проверке гипотез\n",
    "    \n",
    "    \n",
    "**Удачи и жду твой проект на повторное ревью!**\n",
    "\n",
    "<div style=\"border:solid Chocolate 2px; padding: 40px\">\n",
    "    \n",
    "**Общий вывод по проекту ревьювера v2**:\n",
    " Александр, часть ошибок исправлена, но пока не все. Мы на верном пути, увидимся на следующей итерации. Ты молодец!\n",
    "\n",
    "<div style=\"border:solid Chocolate 2px; padding: 40px\">\n",
    "    \n",
    "**Общий вывод по проекту ревьювера v3**:\n",
    " Александр, хорошая работа на этой итерации, молодец, но не везде исправлены выводы и все еще есть ошибки в раьоте с исследованием завиисмости цены от ретйингов\n",
    "\n",
    "<div style=\"border:solid Chocolate 2px; padding: 40px\">\n",
    "    \n",
    "**Общий вывод по проекту ревьювера v4**:\n",
    " Александр, ошибки исправлены, проект принят, поздравляю тебя! Успешной учебы и еще увидимся в Практикуме!"
   ]
  }
 ],
 "metadata": {
  "kernelspec": {
   "display_name": "Python 3 (ipykernel)",
   "language": "python",
   "name": "python3"
  },
  "language_info": {
   "codemirror_mode": {
    "name": "ipython",
    "version": 3
   },
   "file_extension": ".py",
   "mimetype": "text/x-python",
   "name": "python",
   "nbconvert_exporter": "python",
   "pygments_lexer": "ipython3",
   "version": "3.9.13"
  },
  "toc": {
   "base_numbering": 1,
   "nav_menu": {},
   "number_sections": true,
   "sideBar": true,
   "skip_h1_title": true,
   "title_cell": "Table of Contents",
   "title_sidebar": "Contents",
   "toc_cell": true,
   "toc_position": {},
   "toc_section_display": true,
   "toc_window_display": false
  }
 },
 "nbformat": 4,
 "nbformat_minor": 5
}
